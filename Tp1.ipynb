{
 "cells": [
  {
   "cell_type": "markdown",
   "id": "e5cddf88-197c-49c9-b5c4-518c4b90d8e4",
   "metadata": {},
   "source": [
    "## Problema 1. \n",
    "Examen de verdadero o falso: ¿Cuál es la probabilidad de que un estudiante seleccione todas las respuestas correctas en una evaluación de respuestas múltiples (múltiple-choice), si la misma consta de 4 preguntas con 5 opciones cada una? Fundamenta la respuesta."
   ]
  },
  {
   "cell_type": "markdown",
   "id": "5c838c3f-2fa2-43a7-96a9-9286c1ce5d3c",
   "metadata": {},
   "source": [
    "Asumiendo que cada pregunta tiene una unica respuesta correcta.\n",
    "La cantidad de eventos favorables es 1.\n",
    "La cantidad de eventos posibles es 5.\n",
    "Usando la regla de Laplace para calcular la probabilidad de responder una pregunta correctamente:"
   ]
  },
  {
   "cell_type": "code",
   "execution_count": 2,
   "id": "2d921d6c-25be-44be-ba3a-e2fd88e21461",
   "metadata": {},
   "outputs": [],
   "source": [
    "p = 1 / 5"
   ]
  },
  {
   "cell_type": "markdown",
   "id": "d5013630-e76d-484c-b50c-3b642bede1ed",
   "metadata": {},
   "source": [
    "Asumiendo que los eventos de responder las 4 preguntas son independientes, se puede usar el principio de multiplicación:"
   ]
  },
  {
   "cell_type": "code",
   "execution_count": 4,
   "id": "7040bf58-ae7c-419d-bf5d-09f4cfbfaa76",
   "metadata": {},
   "outputs": [
    {
     "data": {
      "text/plain": [
       "0.0016"
      ]
     },
     "execution_count": 4,
     "metadata": {},
     "output_type": "execute_result"
    }
   ],
   "source": [
    "round(p**4, 4)"
   ]
  },
  {
   "cell_type": "markdown",
   "id": "14fc8a52-0ff3-4699-bff7-ce6dbd17d4e7",
   "metadata": {},
   "source": [
    "La probabilidad de que un estudiante responda correctamente 4 preguntas es de 0.0016 o del 0.16%."
   ]
  },
  {
   "cell_type": "markdown",
   "id": "478c870c-013c-4127-b92c-26d2f7ca6b73",
   "metadata": {},
   "source": [
    "## Problema 2. \n",
    "Arreglo de asientos: ¿Cuál es la probabilidad de que un miembro específico \n",
    "de una familia de 4 integrantes ocupe un asiento junto a la ventana al sentarse en una hilera de 4 butacas de un ómnibus? Fundamenta la respuesta."
   ]
  },
  {
   "cell_type": "markdown",
   "id": "75edd570-ab57-4189-b929-0ac95c596b38",
   "metadata": {},
   "source": [
    "Para calcular todas las formas diferentes en que 4 personas se pueden sentar en 4 asientos se usan las permutaciones de 4 elementos. El tamaño del universo muestral es:"
   ]
  },
  {
   "cell_type": "code",
   "execution_count": 5,
   "id": "88835145-2b4f-4d56-80eb-d0faf280a39d",
   "metadata": {},
   "outputs": [
    {
     "data": {
      "text/plain": [
       "24"
      ]
     },
     "execution_count": 5,
     "metadata": {},
     "output_type": "execute_result"
    }
   ],
   "source": [
    "from math import factorial\n",
    "factorial(4)"
   ]
  },
  {
   "cell_type": "code",
   "execution_count": null,
   "id": "897d0afc-215e-4530-b311-48a6f729e5ae",
   "metadata": {},
   "outputs": [],
   "source": [
    "Asumiendo que una hilera de asientos hay dos lugares junto a ventanas, los eventos\n",
    "favorables consisten en contar cuantas de todas las permutaciones resultan en la persona x\n",
    "junto a la ventana."
   ]
  },
  {
   "cell_type": "code",
   "execution_count": 6,
   "id": "e8121777-f34e-4d34-b9c9-fcad21948889",
   "metadata": {},
   "outputs": [
    {
     "data": {
      "text/plain": [
       "12"
      ]
     },
     "execution_count": 6,
     "metadata": {},
     "output_type": "execute_result"
    }
   ],
   "source": [
    "2 * factorial(3)"
   ]
  },
  {
   "cell_type": "markdown",
   "id": "6932cb78-94f8-4a03-a1c1-c99a2e4c237d",
   "metadata": {
    "jupyter": {
     "source_hidden": true
    }
   },
   "source": [
    "Si las ventanas estan en los extremos de la fila, el resultado se puede visualizar con la simulación que sigue:"
   ]
  },
  {
   "cell_type": "code",
   "execution_count": 10,
   "id": "e0daff5e-2706-4251-b124-88829118303a",
   "metadata": {
    "collapsed": true,
    "jupyter": {
     "outputs_hidden": true,
     "source_hidden": true
    },
    "scrolled": true
   },
   "outputs": [
    {
     "name": "stdout",
     "output_type": "stream",
     "text": [
      "xyza *\n",
      "xyaz *\n",
      "xzya *\n",
      "xzay *\n",
      "xayz *\n",
      "xazy *\n",
      "yxza \n",
      "yxaz \n",
      "yzxa \n",
      "yzax *\n",
      "yaxz \n",
      "yazx *\n",
      "zxya \n",
      "zxay \n",
      "zyxa \n",
      "zyax *\n",
      "zaxy \n",
      "zayx *\n",
      "axyz \n",
      "axzy \n",
      "ayxz \n",
      "ayzx *\n",
      "azxy \n",
      "azyx *\n"
     ]
    }
   ],
   "source": [
    "from itertools import permutations\n",
    "for p in permutations(\"xyza\"):\n",
    "    a = \"\".join(p)\n",
    "    marker = \"\"\n",
    "    if a[0] == \"x\" or a[3] == \"x\":\n",
    "        marker = \"*\"\n",
    "    print(a, marker)"
   ]
  },
  {
   "cell_type": "markdown",
   "id": "3465cca7-e114-4445-9568-c6e548e42d79",
   "metadata": {},
   "source": [
    "La probabilidad de una persona de sentarse junto a una ventana se puede calcular usando la regla de Laplace como eventos favorables sobre el tamaño del universo muestral."
   ]
  },
  {
   "cell_type": "code",
   "execution_count": 11,
   "id": "981efd0a-1483-4bcb-9f0e-66dddbde4e20",
   "metadata": {
    "scrolled": true
   },
   "outputs": [
    {
     "data": {
      "text/plain": [
       "0.5"
      ]
     },
     "execution_count": 11,
     "metadata": {},
     "output_type": "execute_result"
    }
   ],
   "source": [
    "12/24"
   ]
  },
  {
   "cell_type": "markdown",
   "id": "361c0c5c-5864-4dab-8d31-624430c0a1a1",
   "metadata": {},
   "source": [
    "La probabilidad es de 0.5 o del 50%."
   ]
  },
  {
   "cell_type": "markdown",
   "id": "757cdfa9-6ac2-47fb-ad0e-b1d42cb30427",
   "metadata": {},
   "source": [
    "## Problema 3. \n",
    "Chapas patentes: Las matrículas automovilísticas de Argentina (también llamadas chapas patentes o simplemente patentes) se usan para la identificación exclusiva de autos, motos y otros vehículos en las rutas argentinas. El sistema actual (implementado en abril de 2016) emplea dos letras seguidas de tres números y finaliza con dos letras, lo que conforma siete caracteres. La decisión de usar dos letras (donde se exceptúa la Ñ) tiene por propósito evitar la formación de palabras.\n",
    "Entre sus características más notorias de esta chapa patente está el tamaño, similar al utilizado en Uruguay y Brasil en las últimas décadas, que es mayor al de Argentina en longitud tomando las medidas europeas. Además, se deja el tradicional fondo negro con letras blancas, invirtiendo los colores para hacer más legibles los dígitos. La difusión de estas matrículas tuvo el siguiente cartel:\n",
    "\n",
    "¿Cómo se determinó la cantidad de combinaciones que indica el cartel? ¿Cuál sería el valor exacto de ese conteo? ¿Por qué no se indica el valor exacto? Fundamenta la respuesta."
   ]
  }
 ],
 "metadata": {
  "kernelspec": {
   "display_name": "Python 3 (ipykernel)",
   "language": "python",
   "name": "python3"
  },
  "language_info": {
   "codemirror_mode": {
    "name": "ipython",
    "version": 3
   },
   "file_extension": ".py",
   "mimetype": "text/x-python",
   "name": "python",
   "nbconvert_exporter": "python",
   "pygments_lexer": "ipython3",
   "version": "3.11.4"
  }
 },
 "nbformat": 4,
 "nbformat_minor": 5
}
