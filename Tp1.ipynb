{
 "cells": [
  {
   "cell_type": "markdown",
   "id": "e5cddf88-197c-49c9-b5c4-518c4b90d8e4",
   "metadata": {},
   "source": [
    "## Problema 1. \n",
    "Examen de verdadero o falso: ¿Cuál es la probabilidad de que un estudiante seleccione todas las respuestas correctas en una evaluación de respuestas múltiples (múltiple-choice), si la misma consta de 4 preguntas con 5 opciones cada una? Fundamenta la respuesta."
   ]
  },
  {
   "cell_type": "markdown",
   "id": "5c838c3f-2fa2-43a7-96a9-9286c1ce5d3c",
   "metadata": {},
   "source": [
    "Asumiendo que cada pregunta tiene una unica respuesta correcta.\n",
    "La cantidad de eventos favorables es 1.\n",
    "La cantidad de eventos posibles es 5.\n",
    "Usando la regla de Laplace para calcular la probabilidad de responder una pregunta correctamente:"
   ]
  },
  {
   "cell_type": "code",
   "execution_count": 1,
   "id": "2d921d6c-25be-44be-ba3a-e2fd88e21461",
   "metadata": {},
   "outputs": [],
   "source": [
    "p = 1 / 5"
   ]
  },
  {
   "cell_type": "markdown",
   "id": "d5013630-e76d-484c-b50c-3b642bede1ed",
   "metadata": {},
   "source": [
    "Asumiendo que los eventos de responder las 4 preguntas son independientes, se puede usar el principio de multiplicación:"
   ]
  },
  {
   "cell_type": "code",
   "execution_count": 2,
   "id": "7040bf58-ae7c-419d-bf5d-09f4cfbfaa76",
   "metadata": {},
   "outputs": [
    {
     "data": {
      "text/plain": [
       "0.0016"
      ]
     },
     "execution_count": 2,
     "metadata": {},
     "output_type": "execute_result"
    }
   ],
   "source": [
    "round(p**4, 4)"
   ]
  },
  {
   "cell_type": "markdown",
   "id": "14fc8a52-0ff3-4699-bff7-ce6dbd17d4e7",
   "metadata": {},
   "source": [
    "La probabilidad de que un estudiante responda correctamente 4 preguntas es de 0.0016 o del 0.16%."
   ]
  },
  {
   "cell_type": "markdown",
   "id": "478c870c-013c-4127-b92c-26d2f7ca6b73",
   "metadata": {},
   "source": [
    "## Problema 2. \n",
    "Arreglo de asientos: ¿Cuál es la probabilidad de que un miembro específico \n",
    "de una familia de 4 integrantes ocupe un asiento junto a la ventana al sentarse en una hilera de 4 butacas de un ómnibus? Fundamenta la respuesta."
   ]
  },
  {
   "cell_type": "markdown",
   "id": "75edd570-ab57-4189-b929-0ac95c596b38",
   "metadata": {},
   "source": [
    "Para calcular todas las formas diferentes en que 4 personas se pueden sentar en 4 asientos se usan las permutaciones de 4 elementos. El tamaño del universo muestral es:"
   ]
  },
  {
   "cell_type": "code",
   "execution_count": 3,
   "id": "88835145-2b4f-4d56-80eb-d0faf280a39d",
   "metadata": {},
   "outputs": [
    {
     "data": {
      "text/plain": [
       "24"
      ]
     },
     "execution_count": 3,
     "metadata": {},
     "output_type": "execute_result"
    }
   ],
   "source": [
    "from math import factorial\n",
    "factorial(4)"
   ]
  },
  {
   "cell_type": "markdown",
   "id": "41d97c95",
   "metadata": {},
   "source": [
    "Asumiendo que una hilera de asientos hay dos lugares junto a ventanas, los eventos\n",
    "favorables consisten en contar cuantas de todas las permutaciones resultan en la persona x\n",
    "junto a la ventana."
   ]
  },
  {
   "cell_type": "code",
   "execution_count": 4,
   "id": "e8121777-f34e-4d34-b9c9-fcad21948889",
   "metadata": {},
   "outputs": [
    {
     "data": {
      "text/plain": [
       "12"
      ]
     },
     "execution_count": 4,
     "metadata": {},
     "output_type": "execute_result"
    }
   ],
   "source": [
    "2 * factorial(3)"
   ]
  },
  {
   "cell_type": "markdown",
   "id": "6932cb78-94f8-4a03-a1c1-c99a2e4c237d",
   "metadata": {
    "jupyter": {
     "source_hidden": true
    }
   },
   "source": [
    "Si las ventanas estan en los extremos de la fila, el resultado se puede visualizar con la simulación que sigue:"
   ]
  },
  {
   "cell_type": "code",
   "execution_count": 5,
   "id": "e0daff5e-2706-4251-b124-88829118303a",
   "metadata": {
    "collapsed": true,
    "jupyter": {
     "outputs_hidden": true,
     "source_hidden": true
    },
    "scrolled": true
   },
   "outputs": [
    {
     "name": "stdout",
     "output_type": "stream",
     "text": [
      "xyza *\n",
      "xyaz *\n",
      "xzya *\n",
      "xzay *\n",
      "xayz *\n",
      "xazy *\n",
      "yxza \n",
      "yxaz \n",
      "yzxa \n",
      "yzax *\n",
      "yaxz \n",
      "yazx *\n",
      "zxya \n",
      "zxay \n",
      "zyxa \n",
      "zyax *\n",
      "zaxy \n",
      "zayx *\n",
      "axyz \n",
      "axzy \n",
      "ayxz \n",
      "ayzx *\n",
      "azxy \n",
      "azyx *\n"
     ]
    }
   ],
   "source": [
    "from itertools import permutations\n",
    "for p in permutations(\"xyza\"):\n",
    "    a = \"\".join(p)\n",
    "    marker = \"\"\n",
    "    if a[0] == \"x\" or a[3] == \"x\":\n",
    "        marker = \"*\"\n",
    "    print(a, marker)"
   ]
  },
  {
   "cell_type": "markdown",
   "id": "3465cca7-e114-4445-9568-c6e548e42d79",
   "metadata": {},
   "source": [
    "La probabilidad de una persona de sentarse junto a una ventana se puede calcular usando la regla de Laplace como eventos favorables sobre el tamaño del universo muestral."
   ]
  },
  {
   "cell_type": "code",
   "execution_count": 6,
   "id": "981efd0a-1483-4bcb-9f0e-66dddbde4e20",
   "metadata": {
    "scrolled": true
   },
   "outputs": [
    {
     "data": {
      "text/plain": [
       "0.5"
      ]
     },
     "execution_count": 6,
     "metadata": {},
     "output_type": "execute_result"
    }
   ],
   "source": [
    "12/24"
   ]
  },
  {
   "cell_type": "markdown",
   "id": "361c0c5c-5864-4dab-8d31-624430c0a1a1",
   "metadata": {},
   "source": [
    "La probabilidad es de 0.5 o del 50%."
   ]
  },
  {
   "cell_type": "markdown",
   "id": "757cdfa9-6ac2-47fb-ad0e-b1d42cb30427",
   "metadata": {},
   "source": [
    "## Problema 3. \n",
    "Chapas patentes: Las matrículas automovilísticas de Argentina (también llamadas chapas patentes o simplemente patentes) se usan para la identificación exclusiva de autos, motos y otros vehículos en las rutas argentinas. El sistema actual (implementado en abril de 2016) emplea dos letras seguidas de tres números y finaliza con dos letras, lo que conforma siete caracteres. La decisión de usar dos letras (donde se exceptúa la Ñ) tiene por propósito evitar la formación de palabras.\n",
    "Entre sus características más notorias de esta chapa patente está el tamaño, similar al utilizado en Uruguay y Brasil en las últimas décadas, que es mayor al de Argentina en longitud tomando las medidas europeas. Además, se deja el tradicional fondo negro con letras blancas, invirtiendo los colores para hacer más legibles los dígitos. La difusión de estas matrículas tuvo el siguiente cartel:\n",
    "\n",
    "![title](Patentes.jpg)\n",
    "\n",
    "¿Cómo se determinó la cantidad de combinaciones que indica el cartel? ¿Cuál sería el valor exacto de ese conteo? ¿Por qué no se indica el valor exacto? Fundamenta la respuesta."
   ]
  },
  {
   "cell_type": "markdown",
   "id": "3888c453",
   "metadata": {},
   "source": [
    "Las patentes están formadas por XX NNN XX, siendo X una letra y N un dígito.\n",
    "Para cada letra, hay 26 opciones, para cada dígito hay 10.\n",
    "\n",
    "Asumiendo que se pueden repetir letras y números, la elección de cada carácter que compone a la patente es\n",
    "independiente del resto.\n",
    "\n",
    "La cantidad de combinaciones posibles se puede calcular usando el principio de multiplicación."
   ]
  },
  {
   "cell_type": "code",
   "execution_count": 7,
   "id": "4bae9c3b",
   "metadata": {},
   "outputs": [
    {
     "data": {
      "text/plain": [
       "456976000"
      ]
     },
     "execution_count": 7,
     "metadata": {},
     "output_type": "execute_result"
    }
   ],
   "source": [
    "26*26*10*10*10*26*26"
   ]
  },
  {
   "cell_type": "markdown",
   "id": "904af78e",
   "metadata": {},
   "source": [
    "El valor exacto del conteo es 456976000. Quizás se usó ese valor porque para una publicidad es más apropiado un numero redondo de millones de combinaciones."
   ]
  },
  {
   "cell_type": "markdown",
   "id": "f0075637",
   "metadata": {},
   "source": [
    "## Problema 4. \n",
    "Anagramas: Si elegimos al azar un anagrama que podemos formar con la palabra PROCESAMIENTO, ¿cuál es la probabilidad de que forme una palabra reconocible en español? Fundamenta tu respuesta."
   ]
  },
  {
   "cell_type": "markdown",
   "id": "0f4bb60a",
   "metadata": {},
   "source": [
    "La cantidad de palabras reconocibles en español se calculan con la ayuda de la página web: [anagramas de procesamiento](https://www.anagramas.net/index.php?w=PROCESAMIENTO&db=es). Esta página encuentra los siguientes\n",
    "anagramas:\n",
    "\n",
    "encapirotemos\n",
    "\n",
    "entorpecíamos\n",
    "\n",
    "potenciaremos\n",
    "\n",
    "potenciáremos\n",
    "\n",
    "procesamiento\n",
    "\n",
    "Descartando las palabras iguales con diferente acentuación quedan 4 vocablos.\n",
    "\n",
    "La cantidad total de anagramas de procesamiento se puede calcular usando las permutaciones con repetición, ya que \"procesamiento\" tiene letras repetidas."
   ]
  },
  {
   "cell_type": "code",
   "execution_count": 8,
   "id": "586e4904",
   "metadata": {},
   "outputs": [
    {
     "name": "stdout",
     "output_type": "stream",
     "text": [
      "Letras repetidas: {('e', 2), ('o', 2)}\n"
     ]
    }
   ],
   "source": [
    "l = {}\n",
    "for c in \"procesamiento\":\n",
    "    l[c] = l.get(c, 0) + 1\n",
    "\n",
    "print(\"Letras repetidas:\", {(c, n) for c, n in l.items() if n > 1})\n"
   ]
  },
  {
   "cell_type": "markdown",
   "id": "327ab990",
   "metadata": {},
   "source": [
    "Las permutaciones con repetición se calculan como: $$ P_{r} = \\frac{n!}{r_{1} r_{2}}$$\n",
    "\n",
    "que es equivalente al tamaño del universo muestral."
   ]
  },
  {
   "cell_type": "code",
   "execution_count": 9,
   "id": "85118f30",
   "metadata": {},
   "outputs": [
    {
     "data": {
      "text/plain": [
       "1556755200.0"
      ]
     },
     "execution_count": 9,
     "metadata": {},
     "output_type": "execute_result"
    }
   ],
   "source": [
    "factorial(len(\"procesamiento\"))/(2*2)"
   ]
  },
  {
   "cell_type": "markdown",
   "id": "d9699345",
   "metadata": {},
   "source": [
    "La probabilidad de que un anagrama de procesamiento sea una palabra se puede calcular usando la regla de Laplace: $$p=\\frac{Eventos favorables}{Universo muestral}$$"
   ]
  },
  {
   "cell_type": "code",
   "execution_count": 10,
   "id": "56fdb465",
   "metadata": {},
   "outputs": [
    {
     "data": {
      "text/plain": [
       "2.569447013891458e-09"
      ]
     },
     "execution_count": 10,
     "metadata": {},
     "output_type": "execute_result"
    }
   ],
   "source": [
    "4/(factorial(len(\"procesamiento\"))/(2*2))"
   ]
  },
  {
   "cell_type": "markdown",
   "id": "20984acf",
   "metadata": {},
   "source": [
    "## Problema 5. \n",
    "Equipo de gestión empresarial: La administración es la ciencia social que tiene por objeto el estudio de las organizaciones y la técnica encargada de la planificación, organización, dirección y control de los recursos (humanos, financieros, materiales, tecnológicos, del conocimiento, etc.) de una organización, con el fin de obtener el máximo beneficio posible.\n",
    "\n",
    "Este beneficio puede ser social, económico, dependiendo de los fines perseguidos por la organización. No obstante, el trabajo en equipo es un aspecto que brinda un aporte esencial para implementar con éxito un sistema de gestión empresarial, puesto que permite alcanzar la participación y el compromiso de los miembros de la organización en el logro de los objetivos planteados.\n",
    "\n",
    "El presidente de una organización está estructurando el equipo de gestión empresarial, el cual estará compuesto (además del presidente) por un director general y representantes de los departamentos de Producción, Marketing, Finanzas y Recursos Humanos. Para la dirección general tiene 2 candidatos, mientras que de los departamentos hay 4 del de producción, 2 del de marketing, 3 del de finanzas y 2 de recursos humanos. Supongamos que el presidente de la organización elige al azar a sus candidatos para la dirección general y a los representantes de los diferentes departamentos. ¿Cuál es la probabilidad de que el equipo de gestión empresarial esté compuesto exactamente por un director general y un representante de cada departamento? Fundamenta la respuesta."
   ]
  },
  {
   "cell_type": "markdown",
   "id": "fa2ea3ce",
   "metadata": {},
   "source": [
    "El universo muestral está dado por las combinaciones tomadas de a 5 del total de candidatos.\n",
    "El total de candidatos es: 2 candidatos a directores, 4 a representante de producción, 2 a representante de marketing, 3 a representante de finanzas y 2 a representante de recursos humanos; que totalizan 13 personas.\n",
    "\n",
    "$$C(13,5)=\\frac{13!}{(13-5)!5!}$$"
   ]
  },
  {
   "cell_type": "code",
   "execution_count": 11,
   "id": "748e2ba5",
   "metadata": {},
   "outputs": [
    {
     "data": {
      "text/plain": [
       "1287.0"
      ]
     },
     "execution_count": 11,
     "metadata": {},
     "output_type": "execute_result"
    }
   ],
   "source": [
    "factorial(13)/(factorial(8)*factorial(5))"
   ]
  },
  {
   "cell_type": "markdown",
   "id": "2285795b",
   "metadata": {},
   "source": [
    "Los eventos favorables se pueden calcular utilizando el principio de multiplicación ya que se puede asumir que los eventos de elegir un director y los representantes de cada uno de los departamentos son independientes.\n",
    "$$ 2 * 4 * 2 * 3 * 2$$"
   ]
  },
  {
   "cell_type": "code",
   "execution_count": 12,
   "id": "509de828",
   "metadata": {},
   "outputs": [
    {
     "data": {
      "text/plain": [
       "96"
      ]
     },
     "execution_count": 12,
     "metadata": {},
     "output_type": "execute_result"
    }
   ],
   "source": [
    "2 * 4 * 2 * 3 * 2"
   ]
  },
  {
   "cell_type": "markdown",
   "id": "a059b67d",
   "metadata": {},
   "source": [
    "La probabilidad de elegir un candidato a director y un representante de cada departamento se puede calcular usando la regla de Laplace."
   ]
  },
  {
   "cell_type": "code",
   "execution_count": 13,
   "id": "eae98f34",
   "metadata": {},
   "outputs": [
    {
     "data": {
      "text/plain": [
       "0.0746"
      ]
     },
     "execution_count": 13,
     "metadata": {},
     "output_type": "execute_result"
    }
   ],
   "source": [
    "round(96/1287,4)"
   ]
  },
  {
   "cell_type": "markdown",
   "id": "eba38d4a",
   "metadata": {},
   "source": [
    "## Problema 6. \n",
    "Clave de acceso de Home Banking: Habitualmente las entidades bancarias imponen condiciones para la clase de acceso de Home Banking. Consideremos las siguientes condiciones impuestas por un banco:\n",
    "- Que posea exactamente 8 dígitos.\n",
    "- Debe estar compuesta por letras y números.\n",
    "- No puede contener más de 2 letras y/o números iguales consecutivos.\n",
    "- Una Nueva Clave no puede ser igual a la última utilizada.\n",
    "- Cada 90 días (si la misma no es modificada antes) se te solicitará el cambio por una nueva.\n",
    "\n",
    "Si decidiéramos conformar una clave compuesta por 4 letras y a continuación seguidas de 4 números ¿cuántas combinaciones son posibles? ¿Cuál es la probabilidad de que una clave aleatoria cumpla con todos estos requisitos? Fundamenta las respuestas."
   ]
  },
  {
   "cell_type": "markdown",
   "id": "2a10f50d",
   "metadata": {},
   "source": [
    "Se cuentan todas las claves compuestas por 4 letras seguidas de 4 números. Para ello se usa el principio multiplicativo:\n",
    "\n",
    "$$26^4 10^4$$"
   ]
  },
  {
   "cell_type": "code",
   "execution_count": 14,
   "id": "357fd85a",
   "metadata": {},
   "outputs": [
    {
     "data": {
      "text/plain": [
       "4569760000"
      ]
     },
     "execution_count": 14,
     "metadata": {},
     "output_type": "execute_result"
    }
   ],
   "source": [
    "(26**4)*(10**4)"
   ]
  },
  {
   "cell_type": "markdown",
   "id": "c10aea6a",
   "metadata": {},
   "source": [
    "Se cuentan todas las partes alfabéticas con 3 o 4 letras consecutivas. Y las partes numéricas con 3 o 4 números consecutivos.\n",
    "\n",
    "### Partes alfabéticas que no cumplen\n",
    "|Letras consecutivas  |Cantidad de combinaciones|\n",
    "|--------------------:|--:|\n",
    "|4|26|\n",
    "|3|26.25.2|\n",
    "||1326|\n",
    "\n",
    "### Partes alfabéticas que si cumplen requisitos\n",
    "El total de partes alfabéticas es $26^4$. \n",
    "La cantidad de partes que si cumplen se puede calcular como $26^4-1326=455650$\n",
    "\n",
    "### Partes numéricas que no cumplen\n",
    "|Números consecutivos  |Cantidad de combinaciones|\n",
    "|--------------------:|--:|\n",
    "|4|10|\n",
    "|3|10.9.2|\n",
    "||190|\n",
    "\n",
    "### Partes numéricas que si cumplen requisitos\n",
    "El total de partes alfabéticas es $10^4$. \n",
    "La cantidad de partes que si cumplen se puede calcular como $10^4-190=9810$\n",
    "\n",
    "### Cálculo de cantidad de contraseñas que si cumplen requisitos\n",
    "$455650.9810=4469926500$\n",
    "\n",
    "### Cálculo de la probabilidad de una contraseña de cumplir requisitos.\n",
    "$p=\\frac{4469926500}{4569760000}=0.9782$"
   ]
  },
  {
   "cell_type": "markdown",
   "id": "7642bcf3",
   "metadata": {},
   "source": [
    "## Verificación de la cantidad de partes que no cumplen"
   ]
  },
  {
   "cell_type": "code",
   "execution_count": 16,
   "id": "4ef7d462",
   "metadata": {},
   "outputs": [
    {
     "name": "stdout",
     "output_type": "stream",
     "text": [
      "Partes alfabéticas que no cumplen: 1326\n",
      "Partes numéricas que no cumplen: 190\n"
     ]
    }
   ],
   "source": [
    "from itertools import product\n",
    "numbers = list(\"\".join(p) for p in product(\"0123456789\", repeat=4))\n",
    "alphas = list(\"\".join(p) for p in product(\"abcdefghijklmnopqrstuvwxyz\", repeat=4))\n",
    "\n",
    "def hasDuplicates(s):\n",
    "    res = False\n",
    "    ic = 0\n",
    "    for i, c in enumerate(s):\n",
    "        if i > 0 and c == s[i-1]:\n",
    "            ic += 1\n",
    "        else:\n",
    "            ic = 1\n",
    "        if ic > 2:\n",
    "            res = True\n",
    "            break\n",
    "    return res\n",
    "\n",
    "print(\"Partes alfabéticas que no cumplen:\", sum(1 for a in alphas if hasDuplicates(a)))\n",
    "print(\"Partes numéricas que no cumplen:\", sum(1 for n in numbers if hasDuplicates(n)))"
   ]
  },
  {
   "cell_type": "markdown",
   "id": "d0664efe",
   "metadata": {},
   "source": [
    "## Problema 7. \n",
    "Resultados de una carrera de caballos: Diez caballos están registrados en una carrera.\n",
    "\n",
    "Si se pasa por alto la posibilidad de un empate para cualquier lugar, ¿cuál es la probabilidad de que los tres primeros puestos (primer lugar, segundo lugar y tercer lugar) sean ocupados por tres caballos específicos? Fundamenta la respuesta."
   ]
  },
  {
   "cell_type": "markdown",
   "id": "5219a018",
   "metadata": {},
   "source": [
    "Se cuentan las ternas diferentes que se pueder formar con diez caballos. El orden importa porque no es lo mismo 123 que 231 donde en el primer caso el caballo 1 salió primero y en el segundo salió tercero.\n",
    "\n",
    "Las ternas ordenadas de 10 caballos se pueden calcular usando el concepto matemático de variaciones sin repetición o el principio de multiplicación.\n",
    "\n",
    "Usando las variaciones:\n",
    "$$V(10, 3) = \\frac{10!}{(10-3)!}=\\frac{10!}{7!} = 10.9.8=720$$\n",
    "\n",
    "Usando el principio de multiplicación, hay 10 caballos que se pueden elegir para el primer puesto, 9 para el segundo y 7 para el tercero.\n",
    "$$10.9.8=720$$\n",
    "\n",
    "Los tres primeros puestos tienen que ser ocupados por tres caballos específicos que pueden formar $3.2.1=6$ ternas.\n",
    "\n",
    "La probabilidad de que tres caballos específicos ocupen los tres primeros lugares es, usando la regla de Laplace:\n",
    "$$\\frac{6}{720}=0.0083$$"
   ]
  },
  {
   "cell_type": "markdown",
   "id": "4b218778",
   "metadata": {},
   "source": [
    "## Problema 8. \n",
    "\n",
    "Posibilidades de menú: En un lujoso restaurante europeo, se ofrece un exclusivo menú del día que incluye un primer plato, un segundo plato y un tercer plato. Cada día, el chef crea nuevas combinaciones culinarias para sorprender a los comensales con exquisitos sabores y texturas. Sin embargo, detrás de esta variedad gastronómica, existe una realidad económica que el restaurante debe considerar.\n",
    "\n",
    "Cada plato del menú tiene un costo asociado, determinado por la calidad de los ingredientes y la complejidad de la preparación. Algunos platos son más elaborados y requieren ingredientes más costosos, lo que aumenta el precio final del menú. En este contexto, el restaurante debe evaluar cómo optimizar sus costos mientras sigue ofreciendo una experiencia gastronómica excepcional a sus clientes. Si bien los comensales tienen la libertad de elegir entre las diversas opciones disponibles, desde el punto de vista económico, no todas las combinaciones\n",
    "de platos son igualmente rentables para el restaurante.\n",
    "\n",
    "![title](platos.png)\n",
    "\n",
    "¿Cuál es la probabilidad de que una persona elija, al azar, el menú del día más costoso para el restaurante? Esta pregunta no solo refleja el interés del restaurante en maximizar sus ganancias, sino que también resalta la importancia de comprender las preferencias de los clientes y su impacto en la rentabilidad del negocio. Fundamenta la respuesta"
   ]
  },
  {
   "cell_type": "markdown",
   "id": "4cd2fd2d",
   "metadata": {},
   "source": [
    "### Resolución\n",
    "|Plato|Opciones|\n",
    "|-----|--------|\n",
    "|1    | 1      |\n",
    "|2    | 8      |\n",
    "|3    | 8      |\n",
    "\n",
    "La cantidad de posibilidades de menú se calculan sabiendo que hay 1 opción para el primer plato y 8 para el segundo y el tercero.\n",
    "\n",
    "Asumiendo que las elecciones de platos son independientes, aplicando el principio de multiplicación la cantidad de posibilidades está dada por $1.8.8=64$\n",
    "\n",
    "Asumiendo que una sola combinación de platos es la más costosa, la probabilidad de que es un cliente la elija es:\n",
    "$$p=\\frac{1}{64}=0.015625$$"
   ]
  },
  {
   "cell_type": "markdown",
   "id": "425aa164",
   "metadata": {},
   "source": [
    "## Problema 9. \n",
    "Directorio de una empresa: 5 socios de una empresa conforman el directorio de la misma, los cuales representan a 5 departamentos de la misma (administrativo, comercial, financiero, producción, recursos humanos). \n",
    "Si decidieran rotar anualmente en los cargos ¿Cuál es la probabilidad de que un determinado director ocupe una posición específica en el directorio en un año determinado? Fundamenta la respuesta."
   ]
  },
  {
   "cell_type": "markdown",
   "id": "51beb79f",
   "metadata": {},
   "source": [
    "## Resolución\n",
    "\n",
    "La cantidad de asignaciones posibles a los 5 socios está dada por las permutaciones de 5.\n",
    "$$P(5) = 5!$$\n",
    "Usando la regla de Laplace: la probabilidad de que un director ocupe una posición específica esta dada por la cantidad de asignaciones que mantienen a ese director como representante del mismo departamento, dividido por todas las asignaciones posibles.\n",
    "$$p=\\frac{4!}{5!}=\\frac{1}{5}=0.2$$"
   ]
  },
  {
   "cell_type": "markdown",
   "id": "304a3807",
   "metadata": {},
   "source": [
    "## Problema 10. \n",
    "Guardias pasivas en una empresa de servicios: En una localidad pequeña trabajan 11 empleados en una empresa de servicios y mantienen guardias pasivas durante los fines de semana. Estas guardias la forman 2 empleados buscando que sean equitativas (en el sentido de no repetir equipos). ¿Es posible armar guardias pasivas diferentes para todo un año? Fundamenta tu respuesta."
   ]
  },
  {
   "cell_type": "markdown",
   "id": "a6d76d6d",
   "metadata": {},
   "source": [
    "En un año hay 52 semanas y por lo tanto 52 fines de semana.\n",
    "$$\\frac{366}{7}=52.29$$\n",
    "La cuenta refleja un año bisiesto que sería el caso menos favorable.\n",
    "\n",
    "Para calcular la cantidad de equipos se pueden usar las combinaciones de 11 elementos tomados de a 2, ya que un equipo formado por Ana y Bautista se considera el mismo que el equipo formado por Bautista y Ana (el orden no es relevante).\n",
    "\n",
    "$$C(11, 2) = \\frac{11!}{(11-2)!2!}=55$$\n",
    "\n",
    "Se pueden formar 55 equipos diferentes por lo que alcanzan para cubrir todo un año."
   ]
  },
  {
   "cell_type": "markdown",
   "id": "89dff8ab",
   "metadata": {},
   "source": [
    "## Problema 11. \n",
    "Comisión directiva: La comisión directiva de una sociedad estará conformada, por estatuto de Presidente, Vicepresidente, Secretario, Tesorero y tres Vocales. Si los miembros candidatos a esta comisión son 20\n",
    "\n",
    "a) ¿Cuántas posibilidades hay para ocupar los puestos de Presidente, Vicepresidente, Secretario y Tesorero? Fundamenta la respuesta.\n",
    "\n",
    "b) Si ya fueron escogidos los puestos de Presidente, Vicepresidente, Secretario y Tesorero, ¿cuántas posibilidades hay de escoger personas para ser Vocales? Fundamenta la respuesta."
   ]
  },
  {
   "cell_type": "markdown",
   "id": "4fb57f0f",
   "metadata": {},
   "source": [
    "## Resolución\n",
    "a) Los puestos de presidente, vicepresidente, secretario y tesorero tienen diferente jerarquía, por lo que si importa el orden de las personas que forman la comisión directiva.\n",
    "\n",
    "Dado que el orden importa, la cantidad de posibilidades se puede calcular utilizando las variaciones de 20 elementos tomadas de a 4.\n",
    "\n",
    "$$V(20, 4)=\\frac{20!}{(20-4)!}=\\frac{20!}{16!}=20.19.18.17=116280$$\n",
    "\n",
    "b) Los 3 puestos de vocales son equivalentes, por lo que no importa en orden de la terna elegida.\n",
    "\n",
    "La cantidad de posibilidades se puede calcular utilizando las combinaciones de 16 elementos tomados de a 3.\n",
    "\n",
    "$$C(16, 3)=\\frac{16!}{(16-3)!3!}=\\frac{16!}{13!3!}=\\frac{16.15.14}{3.2}=560$$"
   ]
  },
  {
   "cell_type": "markdown",
   "id": "95127fe7",
   "metadata": {},
   "source": [
    "## Problema 12. \n",
    "Selección de helados: En una ciudad, existe una popular heladería conocida por su amplia variedad de sabores de helado. Cada día, la heladería ofrece una gran cantidad de combinaciones únicas para satisfacer los gustos de sus clientes. La heladería ha ganado fama por sus deliciosas capelinas, que consisten en tres bolas de helado servidas en un cono. Los clientes pueden elegir entre una amplia selección de 31 sabores diferentes, desde\n",
    "clásicos como vainilla y chocolate hasta opciones más exóticas como mango y frambuesa.\n",
    "\n",
    "Recientemente, la heladería anunció con entusiasmo que los clientes tienen la posibilidad de disfrutar casi 27 mil capelinas únicas, cada una con tres sabores diferentes. Ante esta afirmación, surge la pregunta de si esta cifra es correcta y, de ser así, cómo se llega a esa cantidad tan impresionante de combinaciones. Fundamenta la respuesta."
   ]
  },
  {
   "cell_type": "markdown",
   "id": "1675d6c5",
   "metadata": {},
   "source": [
    "## Resolución\n",
    "\n",
    "Asumiendo que no importa el order de las bochas en las capelinas, la cantidad de posibilidades se pueden calcular como las combinaciones de 31 elementos tomados de a 3.\n",
    "$$C(31, 3)=\\frac{31!}{(28)!3!}=4495$$\n",
    "\n",
    "Sin embargo, la heladería podría considerar que el orden de las bochas sí importa y que la capelina con chocolate, crema y frutilla es diferente de la capelina con crema, chocolate y frutilla. En ese caso, la cantidad de posibilidades estaría dada por las variaciones de 31 elementos tomados de a 3.\n",
    "$$V(31, 3)=\\frac{31!}{(31-3)!}=\\frac{31!}{28!}=26970$$\n",
    "\n",
    "En mi opinión personal, el orden no importa y el número correcto de capelinas únicas es 4495."
   ]
  },
  {
   "cell_type": "markdown",
   "id": "2419db4e",
   "metadata": {},
   "source": [
    "## Problema 13. \n",
    "Selección de condimentos y aditivos para hamburguesa: Un restaurante de comida rápida anuncia que ofrece cualquier combinación de 8 condimentos y aditivos para una hamburguesa, dando así 256 opciones a un cliente. ¿Cómo llegaron a esa cuenta? Fundamenta la respuesta."
   ]
  },
  {
   "cell_type": "markdown",
   "id": "92e6e2ec",
   "metadata": {},
   "source": [
    "## Resolución\n",
    "Cada aditivo o condimento puede ser agregado o no a una hamburguesa. Asumiendo que la elección de agregar o no un condimento es independiente del resto, la cantidad de opciones son 2 por cada condimento.\n",
    "\n",
    "Aplicando el principio de multiplicación de eventos independientes:\n",
    "$$Posibilidades=2^8=256$$\n"
   ]
  },
  {
   "cell_type": "markdown",
   "id": "e3fb2226",
   "metadata": {},
   "source": [
    "## Problema 14\n",
    "\n",
    "Selección de beca: Una empresa va a seleccionar 3 empleados que tienen hijos a cargo para otorgarles una beca de estudio para el presente año. Existen 17 empleados que cumplen con los requisitos. Determina, fundamentando la respuesta, de cuántas formas podrían seleccionarse los empleados si:\n",
    "\n",
    "a) Cada beca es del mismo importe.\n",
    "\n",
    "b) La beca tiene importes diferentes."
   ]
  },
  {
   "cell_type": "markdown",
   "id": "f8a0b22d",
   "metadata": {},
   "source": [
    "a) Si cada beca es del mismo importe las asignaciones de beca se pueden contar como las combinaciones de 17 elementos tomadas de a 3. De esta manera se cuentan los grupos de tres sin que importe el orden.\n",
    "$$C(17,3)=\\frac{17!}{(17-3)!3!}=\\frac{17!}{14!3!}=680$$\n",
    "\n",
    "b) Si cada beca tiene importes diferentes, el orden de las ternas si importa. La cantidad te ternas ordenadas se pueden contar con el concepto de variaciones sin repetición de 17 elementos tomados de a 3.\n",
    "$$V(17,3)=\\frac{17!}{(17-3)!}=\\frac{17!}{14!}=4080$$"
   ]
  },
  {
   "cell_type": "markdown",
   "id": "7f405e15",
   "metadata": {},
   "source": [
    "## Problema 15 \n",
    "Formas de sentarse en butacas del cine: 5 amigos (3 mujeres y 2 varones) van al cine y deciden sentarse juntos en 5 butacas libres y contiguas que encuentran. Si las mujeres quieren permanecer juntas y los varones también ¿de cuántas formas diferentes podrían sentarse? Fundamenta la respuesta."
   ]
  },
  {
   "cell_type": "markdown",
   "id": "b96b527b",
   "metadata": {},
   "source": [
    "Debido a que las mujeres y los varones quieren permanecer juntos se deben contar las posibilidades de sentarse teniendo en cuenta el orden de cada grupo.\n",
    "\n",
    "Las mujeres se pueden sentar de $P(3)=3!=6$ formas diferentes.\n",
    "\n",
    "Los varones se pueden sentar de $P(2)=2!=2$ formas diferentes.\n",
    "\n",
    "Luego para contar el total de formas de sentarse se multiplican ambos resultados por el principio multiplicativo, ya que la forma en que se distribuyen las mujeres es independiente de la que lo hacen los varones.\n",
    "$$6.2=12$$\n",
    "Y también se deben consideras las permutaciones posibles de 2 grupos.\n",
    "$$P(2)=2!=2$$\n",
    "Por lo tanto, el grupo se puede sentar de $6.2.2=24$ formas diferentes"
   ]
  },
  {
   "cell_type": "markdown",
   "id": "ac8d64fc",
   "metadata": {},
   "source": [
    "## Problema 16. \n",
    "Formas de sentarse: En un evento social, seis amigos se reúnen para una cena. Antes de comenzar la cena, deciden jugar a un juego divertido que implica sentarse alrededor de la mesa. La mesa es redonda y tiene cinco sillas dispuestas alrededor de ella. Cada uno de los amigos puede elegir cualquier silla para sentarse.\n",
    "\n",
    "El anfitrión les explica que hay dos opciones para jugar: en la primera opción, cada amigo elige una silla al azar y se sienta en ella; en la segunda opción, lanzan un dado justo antes de sentarse, y el número que obtienen determina en qué silla se sientan, comenzando desde una silla designada como \"1\" y continuando en sentido horario alrededor de la mesa.\n",
    "\n",
    "¿Cuál es la probabilidad de que, en la primera opción, donde cada amigo elige una silla al azar, todos terminen sentándose en la silla que originalmente eligieron? Y ¿cuál es la probabilidad de que, en la segunda opción, donde lanzan un dado, todos terminen sentándose en la silla designada por el número que obtuvieron en el dado? Fundamenta tu respuesta."
   ]
  },
  {
   "cell_type": "markdown",
   "id": "bd6aa5c1",
   "metadata": {},
   "source": [
    "Asumiendo que juegan los 5 invitados y no el anfitrión de manera que las sillas alcanzan, se cuentas las diferentes distribuciones posibles de 5 personas sentadas alrededor de una mesa circular usando la permutaciones circulares, en que las rotaciones de todo el conjunto no se consideran diferentes: $ABCDE\\equiv{BCDEA}$ \n",
    "Las distribuciones posibles son:\n",
    "$$P_{c}(5)=\\frac{5!}{5}=4!=24$$\n",
    "\n",
    "En la primera forma del juego, las elecciones posibles se cuentan asumiendo que la elección de cada amigo es independiente de la del resto. Cada persona tiene 5 sillas posibles para elegir.\n",
    "$$5^5=3125$$\n",
    "\n",
    "La probabilidad de que cada invitado se siente en la silla que eligió se calcula usando la regla de Laplace:\n",
    "$$p=\\frac{24}{3125}=0.00768$$"
   ]
  },
  {
   "cell_type": "code",
   "execution_count": 2,
   "id": "8fc1b8d7",
   "metadata": {},
   "outputs": [
    {
     "name": "stdout",
     "output_type": "stream",
     "text": [
      "5**5 3125\n",
      "24/3125 0.00768\n"
     ]
    }
   ],
   "source": [
    "print(\"5**5\", 5**5)\n",
    "print(\"24/3125\", 24/3125)"
   ]
  },
  {
   "cell_type": "markdown",
   "id": "29126fad",
   "metadata": {},
   "source": [
    "En el segundo caso, las elecciones posibles se cuentan asumiendo un dado de 6 caras no cargado. \n",
    "$$6^5=7776$$\n",
    "En los casos en que la tirada resulta en un 6, equivale a la silla 1. Por lo que en realidad el número de posibilidades diferentes es \n",
    "$$5^5=3125$$\n",
    "La probabilidad de que cada invitado se siente en la silla que eligió se calcula usando la regla de Laplace:\n",
    "$$p=\\frac{24}{3125}=0.00768$$"
   ]
  },
  {
   "cell_type": "code",
   "execution_count": 8,
   "id": "fc9bf5a3",
   "metadata": {},
   "outputs": [
    {
     "name": "stdout",
     "output_type": "stream",
     "text": [
      "6**5 7776\n",
      "Tiradas sin 6 3125\n"
     ]
    }
   ],
   "source": [
    "# Verificación de que el segundo caso es equivalente al primero\n",
    "from itertools import product\n",
    "print(\"6**5\", 6**5)\n",
    "print(\"Tiradas sin 6\", len(list(\"\".join(p) for p in product(\"123456\", repeat=5) if \"6\" not in p )))\n"
   ]
  }
 ],
 "metadata": {
  "interpreter": {
   "hash": "2c6a23e5ca86e48af99ddb8d87a6f8a76f480f6605a8646019b2b2d50a997dfd"
  },
  "kernelspec": {
   "display_name": "Python 3.9.13 ('base')",
   "language": "python",
   "name": "python3"
  },
  "language_info": {
   "codemirror_mode": {
    "name": "ipython",
    "version": 3
   },
   "file_extension": ".py",
   "mimetype": "text/x-python",
   "name": "python",
   "nbconvert_exporter": "python",
   "pygments_lexer": "ipython3",
   "version": "3.9.13"
  }
 },
 "nbformat": 4,
 "nbformat_minor": 5
}
