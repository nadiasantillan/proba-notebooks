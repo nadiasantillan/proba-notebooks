{
 "cells": [
  {
   "cell_type": "markdown",
   "id": "e5cddf88-197c-49c9-b5c4-518c4b90d8e4",
   "metadata": {},
   "source": [
    "## Problema 1. \n",
    "Examen de verdadero o falso: ¿Cuál es la probabilidad de que un estudiante seleccione todas las respuestas correctas en una evaluación de respuestas múltiples (múltiple-choice), si la misma consta de 4 preguntas con 5 opciones cada una? Fundamenta la respuesta."
   ]
  },
  {
   "cell_type": "markdown",
   "id": "5c838c3f-2fa2-43a7-96a9-9286c1ce5d3c",
   "metadata": {},
   "source": [
    "Asumiendo que cada pregunta tiene una unica respuesta correcta.\n",
    "La cantidad de eventos favorables es 1.\n",
    "La cantidad de eventos posibles es 5.\n",
    "Usando la regla de Laplace para calcular la probabilidad de responder una pregunta correctamente:"
   ]
  },
  {
   "cell_type": "code",
   "execution_count": 1,
   "id": "2d921d6c-25be-44be-ba3a-e2fd88e21461",
   "metadata": {},
   "outputs": [],
   "source": [
    "p = 1 / 5"
   ]
  },
  {
   "cell_type": "markdown",
   "id": "d5013630-e76d-484c-b50c-3b642bede1ed",
   "metadata": {},
   "source": [
    "Asumiendo que los eventos de responder las 4 preguntas son independientes, se puede usar el principio de multiplicación:"
   ]
  },
  {
   "cell_type": "code",
   "execution_count": 2,
   "id": "7040bf58-ae7c-419d-bf5d-09f4cfbfaa76",
   "metadata": {},
   "outputs": [
    {
     "data": {
      "text/plain": [
       "0.0016"
      ]
     },
     "execution_count": 2,
     "metadata": {},
     "output_type": "execute_result"
    }
   ],
   "source": [
    "round(p**4, 4)"
   ]
  },
  {
   "cell_type": "markdown",
   "id": "14fc8a52-0ff3-4699-bff7-ce6dbd17d4e7",
   "metadata": {},
   "source": [
    "La probabilidad de que un estudiante responda correctamente 4 preguntas es de 0.0016 o del 0.16%."
   ]
  },
  {
   "cell_type": "markdown",
   "id": "478c870c-013c-4127-b92c-26d2f7ca6b73",
   "metadata": {},
   "source": [
    "## Problema 2. \n",
    "Arreglo de asientos: ¿Cuál es la probabilidad de que un miembro específico \n",
    "de una familia de 4 integrantes ocupe un asiento junto a la ventana al sentarse en una hilera de 4 butacas de un ómnibus? Fundamenta la respuesta."
   ]
  },
  {
   "cell_type": "markdown",
   "id": "75edd570-ab57-4189-b929-0ac95c596b38",
   "metadata": {},
   "source": [
    "Para calcular todas las formas diferentes en que 4 personas se pueden sentar en 4 asientos se usan las permutaciones de 4 elementos. El tamaño del universo muestral es:"
   ]
  },
  {
   "cell_type": "code",
   "execution_count": 3,
   "id": "88835145-2b4f-4d56-80eb-d0faf280a39d",
   "metadata": {},
   "outputs": [
    {
     "data": {
      "text/plain": [
       "24"
      ]
     },
     "execution_count": 3,
     "metadata": {},
     "output_type": "execute_result"
    }
   ],
   "source": [
    "from math import factorial\n",
    "factorial(4)"
   ]
  },
  {
   "cell_type": "markdown",
   "id": "41d97c95",
   "metadata": {},
   "source": [
    "Asumiendo que una hilera de asientos hay dos lugares junto a ventanas, los eventos\n",
    "favorables consisten en contar cuantas de todas las permutaciones resultan en la persona x\n",
    "junto a la ventana."
   ]
  },
  {
   "cell_type": "code",
   "execution_count": 4,
   "id": "e8121777-f34e-4d34-b9c9-fcad21948889",
   "metadata": {},
   "outputs": [
    {
     "data": {
      "text/plain": [
       "12"
      ]
     },
     "execution_count": 4,
     "metadata": {},
     "output_type": "execute_result"
    }
   ],
   "source": [
    "2 * factorial(3)"
   ]
  },
  {
   "cell_type": "markdown",
   "id": "6932cb78-94f8-4a03-a1c1-c99a2e4c237d",
   "metadata": {
    "jupyter": {
     "source_hidden": true
    }
   },
   "source": [
    "Si las ventanas estan en los extremos de la fila, el resultado se puede visualizar con la simulación que sigue:"
   ]
  },
  {
   "cell_type": "code",
   "execution_count": 5,
   "id": "e0daff5e-2706-4251-b124-88829118303a",
   "metadata": {
    "collapsed": true,
    "jupyter": {
     "outputs_hidden": true,
     "source_hidden": true
    },
    "scrolled": true
   },
   "outputs": [
    {
     "name": "stdout",
     "output_type": "stream",
     "text": [
      "xyza *\n",
      "xyaz *\n",
      "xzya *\n",
      "xzay *\n",
      "xayz *\n",
      "xazy *\n",
      "yxza \n",
      "yxaz \n",
      "yzxa \n",
      "yzax *\n",
      "yaxz \n",
      "yazx *\n",
      "zxya \n",
      "zxay \n",
      "zyxa \n",
      "zyax *\n",
      "zaxy \n",
      "zayx *\n",
      "axyz \n",
      "axzy \n",
      "ayxz \n",
      "ayzx *\n",
      "azxy \n",
      "azyx *\n"
     ]
    }
   ],
   "source": [
    "from itertools import permutations\n",
    "for p in permutations(\"xyza\"):\n",
    "    a = \"\".join(p)\n",
    "    marker = \"\"\n",
    "    if a[0] == \"x\" or a[3] == \"x\":\n",
    "        marker = \"*\"\n",
    "    print(a, marker)"
   ]
  },
  {
   "cell_type": "markdown",
   "id": "3465cca7-e114-4445-9568-c6e548e42d79",
   "metadata": {},
   "source": [
    "La probabilidad de una persona de sentarse junto a una ventana se puede calcular usando la regla de Laplace como eventos favorables sobre el tamaño del universo muestral."
   ]
  },
  {
   "cell_type": "code",
   "execution_count": 6,
   "id": "981efd0a-1483-4bcb-9f0e-66dddbde4e20",
   "metadata": {
    "scrolled": true
   },
   "outputs": [
    {
     "data": {
      "text/plain": [
       "0.5"
      ]
     },
     "execution_count": 6,
     "metadata": {},
     "output_type": "execute_result"
    }
   ],
   "source": [
    "12/24"
   ]
  },
  {
   "cell_type": "markdown",
   "id": "361c0c5c-5864-4dab-8d31-624430c0a1a1",
   "metadata": {},
   "source": [
    "La probabilidad es de 0.5 o del 50%."
   ]
  },
  {
   "cell_type": "markdown",
   "id": "757cdfa9-6ac2-47fb-ad0e-b1d42cb30427",
   "metadata": {},
   "source": [
    "## Problema 3. \n",
    "Chapas patentes: Las matrículas automovilísticas de Argentina (también llamadas chapas patentes o simplemente patentes) se usan para la identificación exclusiva de autos, motos y otros vehículos en las rutas argentinas. El sistema actual (implementado en abril de 2016) emplea dos letras seguidas de tres números y finaliza con dos letras, lo que conforma siete caracteres. La decisión de usar dos letras (donde se exceptúa la Ñ) tiene por propósito evitar la formación de palabras.\n",
    "Entre sus características más notorias de esta chapa patente está el tamaño, similar al utilizado en Uruguay y Brasil en las últimas décadas, que es mayor al de Argentina en longitud tomando las medidas europeas. Además, se deja el tradicional fondo negro con letras blancas, invirtiendo los colores para hacer más legibles los dígitos. La difusión de estas matrículas tuvo el siguiente cartel:\n",
    "\n",
    "![title](Patentes.jpg)\n",
    "\n",
    "¿Cómo se determinó la cantidad de combinaciones que indica el cartel? ¿Cuál sería el valor exacto de ese conteo? ¿Por qué no se indica el valor exacto? Fundamenta la respuesta."
   ]
  },
  {
   "cell_type": "markdown",
   "id": "3888c453",
   "metadata": {},
   "source": [
    "Las patentes están formadas por XX NNN XX, siendo X una letra y N un dígito.\n",
    "Para cada letra, hay 26 opciones, para cada dígito hay 10.\n",
    "\n",
    "Asumiendo que se pueden repetir letras y números, la elección de cada carácter que compone a la patente es\n",
    "independiente del resto.\n",
    "\n",
    "La cantidad de combinaciones posibles se puede calcular usando el principio de multiplicación."
   ]
  },
  {
   "cell_type": "code",
   "execution_count": 7,
   "id": "4bae9c3b",
   "metadata": {},
   "outputs": [
    {
     "data": {
      "text/plain": [
       "456976000"
      ]
     },
     "execution_count": 7,
     "metadata": {},
     "output_type": "execute_result"
    }
   ],
   "source": [
    "26*26*10*10*10*26*26"
   ]
  },
  {
   "cell_type": "markdown",
   "id": "904af78e",
   "metadata": {},
   "source": [
    "El valor exacto del conteo es 456976000. Quizás se usó ese valor porque para una publicidad es más apropiado un numero redondo de millones de combinaciones."
   ]
  },
  {
   "cell_type": "markdown",
   "id": "f0075637",
   "metadata": {},
   "source": [
    "## Problema 4. \n",
    "Anagramas: Si elegimos al azar un anagrama que podemos formar con la palabra PROCESAMIENTO, ¿cuál es la probabilidad de que forme una palabra reconocible en español? Fundamenta tu respuesta."
   ]
  },
  {
   "cell_type": "markdown",
   "id": "0f4bb60a",
   "metadata": {},
   "source": [
    "La cantidad de palabras reconocibles en español se calculan con la ayuda de la página web: [anagramas de procesamiento](https://www.anagramas.net/index.php?w=PROCESAMIENTO&db=es). Esta página encuentra los siguientes\n",
    "anagramas:\n",
    "\n",
    "encapirotemos\n",
    "\n",
    "entorpecíamos\n",
    "\n",
    "potenciaremos\n",
    "\n",
    "potenciáremos\n",
    "\n",
    "procesamiento\n",
    "\n",
    "Descartando las palabras iguales con diferente acentuación quedan 4 vocablos.\n",
    "\n",
    "La cantidad total de anagramas de procesamiento se puede calcular usando las permutaciones con repetición, ya que \"procesamiento\" tiene letras repetidas."
   ]
  },
  {
   "cell_type": "code",
   "execution_count": 8,
   "id": "586e4904",
   "metadata": {},
   "outputs": [
    {
     "name": "stdout",
     "output_type": "stream",
     "text": [
      "Letras repetidas: {('e', 2), ('o', 2)}\n"
     ]
    }
   ],
   "source": [
    "l = {}\n",
    "for c in \"procesamiento\":\n",
    "    l[c] = l.get(c, 0) + 1\n",
    "\n",
    "print(\"Letras repetidas:\", {(c, n) for c, n in l.items() if n > 1})\n"
   ]
  },
  {
   "cell_type": "markdown",
   "id": "327ab990",
   "metadata": {},
   "source": [
    "Las permutaciones con repetición se calculan como: $$ P_{r} = \\frac{n!}{r_{1} r_{2}}$$\n",
    "\n",
    "que es equivalente al tamaño del universo muestral."
   ]
  },
  {
   "cell_type": "code",
   "execution_count": 9,
   "id": "85118f30",
   "metadata": {},
   "outputs": [
    {
     "data": {
      "text/plain": [
       "1556755200.0"
      ]
     },
     "execution_count": 9,
     "metadata": {},
     "output_type": "execute_result"
    }
   ],
   "source": [
    "factorial(len(\"procesamiento\"))/(2*2)"
   ]
  },
  {
   "cell_type": "markdown",
   "id": "d9699345",
   "metadata": {},
   "source": [
    "La probabilidad de que un anagrama de procesamiento sea una palabra se puede calcular usando la regla de Laplace: $$p=\\frac{Eventos favorables}{Universo muestral}$$"
   ]
  },
  {
   "cell_type": "code",
   "execution_count": 10,
   "id": "56fdb465",
   "metadata": {},
   "outputs": [
    {
     "data": {
      "text/plain": [
       "2.569447013891458e-09"
      ]
     },
     "execution_count": 10,
     "metadata": {},
     "output_type": "execute_result"
    }
   ],
   "source": [
    "4/(factorial(len(\"procesamiento\"))/(2*2))"
   ]
  },
  {
   "cell_type": "markdown",
   "id": "20984acf",
   "metadata": {},
   "source": [
    "## Problema 5. \n",
    "Equipo de gestión empresarial: La administración es la ciencia social que tiene por objeto el estudio de las organizaciones y la técnica encargada de la planificación, organización, dirección y control de los recursos (humanos, financieros, materiales, tecnológicos, del conocimiento, etc.) de una organización, con el fin de obtener el máximo beneficio posible.\n",
    "\n",
    "Este beneficio puede ser social, económico, dependiendo de los fines perseguidos por la organización. No obstante, el trabajo en equipo es un aspecto que brinda un aporte esencial para implementar con éxito un sistema de gestión empresarial, puesto que permite alcanzar la participación y el compromiso de los miembros de la organización en el logro de los objetivos planteados.\n",
    "\n",
    "El presidente de una organización está estructurando el equipo de gestión empresarial, el cual estará compuesto (además del presidente) por un director general y representantes de los departamentos de Producción, Marketing, Finanzas y Recursos Humanos. Para la dirección general tiene 2 candidatos, mientras que de los departamentos hay 4 del de producción, 2 del de marketing, 3 del de finanzas y 2 de recursos humanos. Supongamos que el presidente de la organización elige al azar a sus candidatos para la dirección general y a los representantes de los diferentes departamentos. ¿Cuál es la probabilidad de que el equipo de gestión empresarial esté compuesto exactamente por un director general y un representante de cada departamento? Fundamenta la respuesta."
   ]
  },
  {
   "cell_type": "markdown",
   "id": "fa2ea3ce",
   "metadata": {},
   "source": [
    "El universo muestral está dado por las combinaciones tomadas de a 5 del total de candidatos.\n",
    "El total de candidatos es: 2 candidatos a directores, 4 a representante de producción, 2 a representante de marketing, 3 a representante de finanzas y 2 a representante de recursos humanos; que totalizan 13 personas.\n",
    "\n",
    "$$C(13,5)=\\frac{13!}{(13-5)!5!}$$"
   ]
  },
  {
   "cell_type": "code",
   "execution_count": 11,
   "id": "748e2ba5",
   "metadata": {},
   "outputs": [
    {
     "data": {
      "text/plain": [
       "1287.0"
      ]
     },
     "execution_count": 11,
     "metadata": {},
     "output_type": "execute_result"
    }
   ],
   "source": [
    "factorial(13)/(factorial(8)*factorial(5))"
   ]
  },
  {
   "cell_type": "markdown",
   "id": "2285795b",
   "metadata": {},
   "source": [
    "Los eventos favorables se pueden calcular utilizando el principio de multiplicación ya que se puede asumir que los eventos de elegir un director y los representantes de cada uno de los departamentos son independientes.\n",
    "$$ 2 * 4 * 2 * 3 * 2$$"
   ]
  },
  {
   "cell_type": "code",
   "execution_count": 12,
   "id": "509de828",
   "metadata": {},
   "outputs": [
    {
     "data": {
      "text/plain": [
       "96"
      ]
     },
     "execution_count": 12,
     "metadata": {},
     "output_type": "execute_result"
    }
   ],
   "source": [
    "2 * 4 * 2 * 3 * 2"
   ]
  },
  {
   "cell_type": "markdown",
   "id": "a059b67d",
   "metadata": {},
   "source": [
    "La probabilidad de elegir un candidato a director y un representante de cada departamento se puede calcular usando la regla de Laplace."
   ]
  },
  {
   "cell_type": "code",
   "execution_count": 13,
   "id": "eae98f34",
   "metadata": {},
   "outputs": [
    {
     "data": {
      "text/plain": [
       "0.0746"
      ]
     },
     "execution_count": 13,
     "metadata": {},
     "output_type": "execute_result"
    }
   ],
   "source": [
    "round(96/1287,4)"
   ]
  },
  {
   "cell_type": "markdown",
   "id": "eba38d4a",
   "metadata": {},
   "source": [
    "## Problema 6. \n",
    "Clave de acceso de Home Banking: Habitualmente las entidades bancarias imponen condiciones para la clase de acceso de Home Banking. Consideremos las siguientes condiciones impuestas por un banco:\n",
    "- Que posea exactamente 8 dígitos.\n",
    "- Debe estar compuesta por letras y números.\n",
    "- No puede contener más de 2 letras y/o números iguales consecutivos.\n",
    "- Una Nueva Clave no puede ser igual a la última utilizada.\n",
    "- Cada 90 días (si la misma no es modificada antes) se te solicitará el cambio por una nueva.\n",
    "\n",
    "Si decidiéramos conformar una clave compuesta por 4 letras y a continuación seguidas de 4 números ¿cuántas combinaciones son posibles? ¿Cuál es la probabilidad de que una clave aleatoria cumpla con todos estos requisitos? Fundamenta las respuestas."
   ]
  },
  {
   "cell_type": "markdown",
   "id": "2a10f50d",
   "metadata": {},
   "source": [
    "Se cuentan todas las claves compuestas por 4 letras seguidas de 4 números. Para ello se usa el principio multiplicativo:\n",
    "\n",
    "$$26^4 10^4$$"
   ]
  },
  {
   "cell_type": "code",
   "execution_count": 14,
   "id": "357fd85a",
   "metadata": {},
   "outputs": [
    {
     "data": {
      "text/plain": [
       "4569760000"
      ]
     },
     "execution_count": 14,
     "metadata": {},
     "output_type": "execute_result"
    }
   ],
   "source": [
    "(26**4)*(10**4)"
   ]
  },
  {
   "cell_type": "markdown",
   "id": "c10aea6a",
   "metadata": {},
   "source": [
    "Se cuentan todas las partes alfabéticas con 3 o 4 letras consecutivas. Y las partes numéricas con 3 o 4 números consecutivos.\n",
    "\n",
    "### Partes alfabéticas que no cumplen\n",
    "|Letras consecutivas  |Cantidad de combinaciones|\n",
    "|--------------------:|--:|\n",
    "|4|26|\n",
    "|3|26.25.2|\n",
    "||1326|\n",
    "\n",
    "### Partes alfabéticas que si cumplen requisitos\n",
    "El total de partes alfabéticas es $26^4$. \n",
    "La cantidad de partes que si cumplen se puede calcular como $26^4-1326=455650$\n",
    "\n",
    "### Partes numéricas que no cumplen\n",
    "|Números consecutivos  |Cantidad de combinaciones|\n",
    "|--------------------:|--:|\n",
    "|4|10|\n",
    "|3|10.9.2|\n",
    "||190|\n",
    "\n",
    "### Partes numéricas que si cumplen requisitos\n",
    "El total de partes alfabéticas es $10^4$. \n",
    "La cantidad de partes que si cumplen se puede calcular como $10^4-190=9810$\n",
    "\n",
    "### Cálculo de cantidad de contraseñas que si cumplen requisitos\n",
    "$455650.9810=4469926500$\n",
    "\n",
    "### Cálculo de la probabilidad de una contraseña de cumplir requisitos.\n",
    "$p=\\frac{4469926500}{4569760000}=0.9782$"
   ]
  },
  {
   "cell_type": "markdown",
   "id": "7642bcf3",
   "metadata": {},
   "source": [
    "## Verificación de la cantidad de partes que no cumplen"
   ]
  },
  {
   "cell_type": "code",
   "execution_count": 16,
   "id": "4ef7d462",
   "metadata": {},
   "outputs": [
    {
     "name": "stdout",
     "output_type": "stream",
     "text": [
      "Partes alfabéticas que no cumplen: 1326\n",
      "Partes numéricas que no cumplen: 190\n"
     ]
    }
   ],
   "source": [
    "from itertools import product\n",
    "numbers = list(\"\".join(p) for p in product(\"0123456789\", repeat=4))\n",
    "alphas = list(\"\".join(p) for p in product(\"abcdefghijklmnopqrstuvwxyz\", repeat=4))\n",
    "\n",
    "def hasDuplicates(s):\n",
    "    res = False\n",
    "    ic = 0\n",
    "    for i, c in enumerate(s):\n",
    "        if i > 0 and c == s[i-1]:\n",
    "            ic += 1\n",
    "        else:\n",
    "            ic = 1\n",
    "        if ic > 2:\n",
    "            res = True\n",
    "            break\n",
    "    return res\n",
    "\n",
    "print(\"Partes alfabéticas que no cumplen:\", sum(1 for a in alphas if hasDuplicates(a)))\n",
    "print(\"Partes numéricas que no cumplen:\", sum(1 for n in numbers if hasDuplicates(n)))"
   ]
  },
  {
   "cell_type": "markdown",
   "id": "d0664efe",
   "metadata": {},
   "source": [
    "## Problema 7. \n",
    "Resultados de una carrera de caballos: Diez caballos están registrados en una carrera.\n",
    "\n",
    "Si se pasa por alto la posibilidad de un empate para cualquier lugar, ¿cuál es la probabilidad de que los tres primeros puestos (primer lugar, segundo lugar y tercer lugar) sean ocupados por tres caballos específicos? Fundamenta la respuesta."
   ]
  },
  {
   "cell_type": "markdown",
   "id": "5219a018",
   "metadata": {},
   "source": [
    "Se cuentan las ternas diferentes que se pueder formar con diez caballos. El orden importa porque no es lo mismo 123 que 231 donde en el primer caso el caballo 1 salió primero y en el segundo salió tercero.\n",
    "\n",
    "Las ternas ordenadas de 10 caballos se pueden calcular usando el concepto matemático de variaciones sin repetición o el principio de multiplicación.\n",
    "\n",
    "Usando las variaciones:\n",
    "$$V(10, 3) = \\frac{10!}{(10-3)!}=\\frac{10!}{7!} = 10.9.8=720$$\n",
    "\n",
    "Usando el principio de multiplicación, hay 10 caballos que se pueden elegir para el primer puesto, 9 para el segundo y 7 para el tercero.\n",
    "$$10.9.8=720$$\n",
    "\n",
    "Los tres primeros puestos tienen que ser ocupados por tres caballos específicos que pueden formar $3.2.1=6$ ternas.\n",
    "\n",
    "La probabilidad de que tres caballos específicos ocupen los tres primeros lugares es, usando la regla de Laplace:\n",
    "$$\\frac{6}{720}=0.0083$$"
   ]
  }
 ],
 "metadata": {
  "interpreter": {
   "hash": "2c6a23e5ca86e48af99ddb8d87a6f8a76f480f6605a8646019b2b2d50a997dfd"
  },
  "kernelspec": {
   "display_name": "Python 3.9.13 ('base')",
   "language": "python",
   "name": "python3"
  },
  "language_info": {
   "codemirror_mode": {
    "name": "ipython",
    "version": 3
   },
   "file_extension": ".py",
   "mimetype": "text/x-python",
   "name": "python",
   "nbconvert_exporter": "python",
   "pygments_lexer": "ipython3",
   "version": "3.9.13"
  }
 },
 "nbformat": 4,
 "nbformat_minor": 5
}
