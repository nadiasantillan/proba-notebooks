{
 "cells": [
  {
   "cell_type": "markdown",
   "metadata": {},
   "source": [
    "## Problema 1\n",
    "Sistema de seguridad. La ciudad de San Luis ha implementado un programa piloto para mejorar la seguridad en las residencias, instalando sistemas de alarmas en varios hogares. Estos sistemas de seguridad tienen una tasa de confiabilidad del 99%, lo que significa que el 99% de las veces que ocurre un intento de robo, la alarma se activará.\n",
    "\n",
    "El programa piloto ha instalado sistemas en un conjunto de 9 (nueve) casas seleccionadas aleatoriamente. Queremos evaluar el rendimiento de estos sistemas durante los primeros seis meses de implementación, periodo en el cual cada casa ha experimentado al menos un intento de robo al activarse el sistema de alarma.\n",
    "\n",
    "Se ha recopilado la siguiente información sobre los 9 hogares equipados con el nuevo sistema de seguridad:\n",
    "\n",
    "Casa 1: Alarma activada Casa 2: Alarma no activada\n",
    "\n",
    "Casa 3: Alarma activada Casa 4: Alarma activada\n",
    "\n",
    "Casa 5: Alarma activada Casa 6: Alarma activada\n",
    "\n",
    "Casa 7: Alarma activada Casa 8: Alarma no activada\n",
    "\n",
    "Casa 9: Alarma activada\n",
    "\n",
    "Realiza un informe detallado donde analices y evalúes el rendimiento de los sistemas de seguridad instalados en las 9 casas. En tu informe, deberás:\n",
    "\n",
    "− Analizar los datos proporcionados, considerando aspectos como la proporción de alarmas que se activaron y comparándola con la confiabilidad esperada del 99%. Discute cualquier discrepancia observada y plantea posibles explicaciones.\n",
    "− Seleccionar y justificar un modelo probabilístico adecuado para analizar el rendimiento de los sistemas de seguridad. Realiza los cálculos necesarios para evaluar el rendimiento del sistema en las 9 casas, considerando eventos de interés que consideres relevantes (como una activación, dos activaciones, etc.). Fundamenta por qué estos cálculos son importantes para evaluar el sistema de seguridad.\n",
    "− Interpretar los resultados obtenidos y discutir la consistencia del rendimiento observado con la confiabilidad esperada del sistema. Evalúa la efectividad del programa piloto y su potencial impacto en la seguridad de las residencias. Considera diferentes escenarios de rendimiento y discute su relevancia. Identifica posibles áreas problemáticas y sugiere recomendaciones basadas en tus hallazgos.\n",
    "− Plantear una pregunta adicional relevante que no se haya abordado directamente en el análisis anterior. Justifica por qué esta pregunta es importante y realiza los cálculos necesarios para responderla. Interpreta tus resultados y discute su relevancia en el contexto del programa de seguridad.\n",
    "\n",
    "Tu informe debe ser claro y bien estructurado, explicando los fundamentos y la importancia de cada análisis realizado. Concluye con una evaluación del programa de seguridad basado en tus análisis, ofreciendo recomendaciones o sugerencias para mejorar el rendimiento de los sistemas de alarma."
   ]
  },
  {
   "cell_type": "markdown",
   "metadata": {},
   "source": [
    "## Solución\n",
    "La proporción de alarmas activadas es $\\frac{7}{9}=0.7778$.\n",
    "\n",
    "El programa piloto puede ser modelado como un experimento binomial ya que coincide con sus características.\n",
    "\n",
    "1. Los ensayos son iguales e independientes entre sí.\n",
    "1. Los ensayos tienen dos resultados posibles: éxito (alarma activada) o fracaso (alarma no activada).\n",
    "1. Hay un número fijo de ensayos, 9.\n",
    "1. La probabilidad de éxito es la misma para todos los ensayos, 0.99.\n",
    "\n",
    "$$P(X=x)=B(n, p)=\\binom{n}{x}p^x(1-p)^{n-x}$$\n",
    "$$P(X=x)=B(9, 0.99)=\\binom{9}{x}p^x(1-p)^{9-x}$$\n",
    "\n",
    "Se calcula la probabilidad de que se activen 7 alarmas.\n",
    "$$P(X=7)=B(9, 0.99)=\\binom{9}{7}p^7(1-p)^{9-7}=0.003355$$\n"
   ]
  },
  {
   "cell_type": "code",
   "execution_count": 7,
   "metadata": {},
   "outputs": [
    {
     "name": "stdout",
     "output_type": "stream",
     "text": [
      "0.9135172474836408\n"
     ]
    }
   ],
   "source": [
    "from math import factorial\n",
    "p = 0.99\n",
    "n=9\n",
    "x = 9\n",
    "c = factorial(n)/(factorial(n-x)*factorial(x))\n",
    "print(c*(p**x)*((1-p)**(n-x)))"
   ]
  }
 ],
 "metadata": {
  "interpreter": {
   "hash": "2c6a23e5ca86e48af99ddb8d87a6f8a76f480f6605a8646019b2b2d50a997dfd"
  },
  "kernelspec": {
   "display_name": "Python 3.9.13 ('base')",
   "language": "python",
   "name": "python3"
  },
  "language_info": {
   "codemirror_mode": {
    "name": "ipython",
    "version": 3
   },
   "file_extension": ".py",
   "mimetype": "text/x-python",
   "name": "python",
   "nbconvert_exporter": "python",
   "pygments_lexer": "ipython3",
   "version": "3.9.13"
  },
  "orig_nbformat": 4
 },
 "nbformat": 4,
 "nbformat_minor": 2
}
