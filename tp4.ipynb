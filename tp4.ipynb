{
 "cells": [
  {
   "cell_type": "markdown",
   "metadata": {},
   "source": [
    "## Problema 1\n",
    "Sistema de seguridad. La ciudad de San Luis ha implementado un programa piloto para mejorar la seguridad en las residencias, instalando sistemas de alarmas en varios hogares. Estos sistemas de seguridad tienen una tasa de confiabilidad del 99%, lo que significa que el 99% de las veces que ocurre un intento de robo, la alarma se activará.\n",
    "\n",
    "El programa piloto ha instalado sistemas en un conjunto de 9 (nueve) casas seleccionadas aleatoriamente. Queremos evaluar el rendimiento de estos sistemas durante los primeros seis meses de implementación, periodo en el cual cada casa ha experimentado al menos un intento de robo al activarse el sistema de alarma.\n",
    "\n",
    "Se ha recopilado la siguiente información sobre los 9 hogares equipados con el nuevo sistema de seguridad:\n",
    "\n",
    "Casa 1: Alarma activada Casa 2: Alarma no activada\n",
    "\n",
    "Casa 3: Alarma activada Casa 4: Alarma activada\n",
    "\n",
    "Casa 5: Alarma activada Casa 6: Alarma activada\n",
    "\n",
    "Casa 7: Alarma activada Casa 8: Alarma no activada\n",
    "\n",
    "Casa 9: Alarma activada\n",
    "\n",
    "Realiza un informe detallado donde analices y evalúes el rendimiento de los sistemas de seguridad instalados en las 9 casas. En tu informe, deberás:\n",
    "\n",
    "− Analizar los datos proporcionados, considerando aspectos como la proporción de alarmas que se activaron y comparándola con la confiabilidad esperada del 99%. Discute cualquier discrepancia observada y plantea posibles explicaciones.\n",
    "− Seleccionar y justificar un modelo probabilístico adecuado para analizar el rendimiento de los sistemas de seguridad. Realiza los cálculos necesarios para evaluar el rendimiento del sistema en las 9 casas, considerando eventos de interés que consideres relevantes (como una activación, dos activaciones, etc.). Fundamenta por qué estos cálculos son importantes para evaluar el sistema de seguridad.\n",
    "− Interpretar los resultados obtenidos y discutir la consistencia del rendimiento observado con la confiabilidad esperada del sistema. Evalúa la efectividad del programa piloto y su potencial impacto en la seguridad de las residencias. Considera diferentes escenarios de rendimiento y discute su relevancia. Identifica posibles áreas problemáticas y sugiere recomendaciones basadas en tus hallazgos.\n",
    "− Plantear una pregunta adicional relevante que no se haya abordado directamente en el análisis anterior. Justifica por qué esta pregunta es importante y realiza los cálculos necesarios para responderla. Interpreta tus resultados y discute su relevancia en el contexto del programa de seguridad.\n",
    "\n",
    "Tu informe debe ser claro y bien estructurado, explicando los fundamentos y la importancia de cada análisis realizado. Concluye con una evaluación del programa de seguridad basado en tus análisis, ofreciendo recomendaciones o sugerencias para mejorar el rendimiento de los sistemas de alarma."
   ]
  },
  {
   "cell_type": "markdown",
   "metadata": {},
   "source": [
    "## Solución\n",
    "La proporción de alarmas activadas es $\\frac{7}{9}=0.7778$.\n",
    "\n",
    "El programa piloto puede ser modelado como un experimento binomial ya que coincide con sus características.\n",
    "\n",
    "1. Los ensayos son iguales e independientes entre sí.\n",
    "1. Los ensayos tienen dos resultados posibles: éxito (alarma activada) o fracaso (alarma no activada).\n",
    "1. Hay un número fijo de ensayos, 9.\n",
    "1. La probabilidad de éxito es la misma para todos los ensayos, 0.99.\n",
    "\n",
    "$$P(X=x)=B(n, p)=\\binom{n}{x}p^x(1-p)^{n-x}$$\n",
    "$$P(X=x)=B(9, 0.99)=\\binom{9}{x}p^x(1-p)^{9-x}$$\n",
    "\n",
    "Se calcula la probabilidad de que se activen 7 alarmas.\n",
    "$$P(X=7)=B(9, 0.99)=\\binom{9}{7}p^7(1-p)^{9-7}=0.003355$$\n"
   ]
  },
  {
   "cell_type": "code",
   "execution_count": 7,
   "metadata": {},
   "outputs": [
    {
     "name": "stdout",
     "output_type": "stream",
     "text": [
      "0.9135172474836408\n"
     ]
    }
   ],
   "source": [
    "from math import factorial\n",
    "p = 0.99\n",
    "n=9\n",
    "x = 9\n",
    "c = factorial(n)/(factorial(n-x)*factorial(x))\n",
    "print(c*(p**x)*((1-p)**(n-x)))"
   ]
  },
  {
   "cell_type": "markdown",
   "metadata": {},
   "source": [
    "## Media\n",
    "$$\\overline x=\\sum_{x=0}^{n}x\\binom{n}{x}p^x(1-p)^{n-x}$$\n",
    "$$\\overline x=\\sum_{x=0}^{n}\\frac{xn!}{(n-x)!x!}p^x(1-p)^{n-x}$$\n",
    "$$\\overline x=\\sum_{x=0}^{n}\\frac{xn!}{(n-x)!x!}p^x(1-p)^{n-x}$$\n",
    "El primer término correspondiente a x = 0 no contribuye a la suma total por ser 0.\n",
    "$$\\overline x=\\sum_{x=1}^{n}\\frac{n!}{(n-x)!(x-1)!}p^x(1-p)^{n-x}$$"
   ]
  },
  {
   "cell_type": "markdown",
   "metadata": {},
   "source": [
    "## Problema 4\n",
    "Producción y calidad de copas de cristal. Una compañía dedicada a la producción de cristales finos ha identificado, a través de su experiencia, que el 10% de sus copas de mesa presentan imperfecciones cosméticas y deben ser clasificadas como “de segunda”. Esta clasificación puede afectar tanto la percepción de la marca como las ventas, y la empresa está interesada en comprender mejor la probabilidad de encontrar copas defectuosas en distintos escenarios de producción y control de calidad.\n",
    "\n",
    "Realiza un informe detallado donde analices y evalúes la calidad de las copas de cristal producidas\n",
    "por la compañía. En tu informe, deberás:\n",
    "\n",
    "− Analizar la probabilidad de que, entre seis copas seleccionadas al azar, solo una sea clasificada como “de segunda”. Justifica el modelo probabilístico que elijas para este análisis y realiza los cálculos necesarios.\n",
    "\n",
    "− Evaluar la probabilidad de que, entre seis copas seleccionadas al azar, por lo menos dos sean clasificadas como “de segunda”. Discute los resultados obtenidos y cómo se comparan con las expectativas basadas en la proporción inicial del 10% de copas defectuosas.\n",
    "\n",
    "− Considerar un proceso de inspección en el que las copas se examinan una por una. Calcula la probabilidad de que, como máximo, cinco copas necesiten ser seleccionadas para encontrar cuatro que no sean de segunda.  Justifica el modelo probabilístico que elijas y realiza los cálculos necesarios.\n",
    "\n",
    "− Interpretar los resultados y discutir las implicaciones para el proceso de producción y control de calidad de la compañía. Analiza cómo estos hallazgos pueden influir en las estrategias de mejora de la calidad y en la percepción de los productos por parte de los clientes.\n",
    "\n",
    "− Plantear una pregunta adicional relevante que no se haya abordado directamente en el análisis anterior. Por ejemplo, podrías considerar la probabilidad de encontrar un número específico de copas defectuosas en una producción mayor (por ejemplo, en una muestra de 50 o 100 copas). Justifica por qué esta pregunta es importante y realiza los cálculos necesarios para responderla. Interpreta tus resultados y discute su relevancia en el contexto de la producción y control de calidad.\n",
    "\n",
    "Tu informe debe ser claro y bien estructurado, explicando los fundamentos y la importancia de cada análisis realizado. Concluye con una evaluación de las implicaciones para la producción y la estrategia de control de calidad de la compañía, ofreciendo recomendaciones o sugerencias basadas en tus análisis."
   ]
  },
  {
   "cell_type": "markdown",
   "metadata": {},
   "source": [
    "## Solución\n",
    "\n",
    "La producción de n copas se puede modela con la distribución de probabilidad Binomial.\n",
    "1. Hay n ensayos con la misma probabilidad de éxito (copa perfecta) del 90%.\n",
    "1. Cada ensayo tiene dos resultados posibles: copa perfecta y copa de segunda.\n",
    "1. La producción de una copa es independiente del resto.\n",
    "1. Hay un número fijo de ensayos.\n",
    "\n",
    "Para el cálculo de la probabilidad de 1 copa defectuosa en 6 seleccionadas al azar se usa la distribución con $n=6$ y $p=0.1$.\n",
    "\n",
    "$$P(X=1)=\\binom{6}{1}0.10^1(1-0.10)^{6-1}$$\n",
    "$$P(X=1)=6\\text{ }0.10\\text{ }0.90^5=0.3543$$"
   ]
  },
  {
   "cell_type": "code",
   "execution_count": 1,
   "metadata": {},
   "outputs": [
    {
     "name": "stdout",
     "output_type": "stream",
     "text": [
      "0.3542940000000001\n"
     ]
    }
   ],
   "source": [
    "print(6*0.1*0.9**5)"
   ]
  },
  {
   "cell_type": "markdown",
   "metadata": {},
   "source": [
    "Para el cálculo de la probabilidad de 2 o más copas defectuosas en 6 seleccionadas al azar se usa la distribución con $n=6$ y $p=0.1$.\n",
    "$$P(X\\ge 2)=1-P(X\\le 1)$$\n",
    "\n",
    "Se calcula \n",
    "$$P(X=0)=\\binom{6}{0}0.10^0\\text{ }0.90^6=0.5314$$\n",
    "\n",
    "$$P(X\\ge 2)=1-P(X=1)-P(X=0)=1-0.3543-0.5314=0.1143$$"
   ]
  },
  {
   "cell_type": "code",
   "execution_count": 3,
   "metadata": {},
   "outputs": [
    {
     "name": "stdout",
     "output_type": "stream",
     "text": [
      "0.531441\n",
      "0.11429999999999996\n"
     ]
    }
   ],
   "source": [
    "print(.9**6)\n",
    "print(1-0.3543-0.5314)"
   ]
  },
  {
   "cell_type": "markdown",
   "metadata": {},
   "source": [
    "Si las copas son examinadas una por una la probabilidad de tener que examinar cómo máximo 5 copas para encontrar 4 perfectas.\n",
    "Tener que examinar cómo máximo 5 copas se interpreta como dos casos posibles.\n",
    "1. Tener que examinar 4 copas y que las 4 sean perfectas.\n",
    "2. Tener que examinar 5 copas y que en las primeras 4 haya 3 perfectas.\n",
    "Luego por ser eventos mutuamente excluyentes se suman las probabilidades.\n",
    "\n",
    "Para el primer caso la probabilidad corresponde a una variable aleatoria binomial con $n=4$ y $p=0.90$ y donde 4 experimentos resultan exitosos.\n",
    "$$P(X=4)=\\binom{4}{4}0.90^4(1-0.90)^0=0.6561$$\n",
    "\n",
    "Para el segundo caso la probabilidad corresponde a una variable aleatoria binomial con $n=4$ y $p=0.90$ y donde 3 experimentos resultan exitosos, multiplicado por la probabilidad de un evento exitoso más para obtener la cuarta copa perfecta.\n",
    "$$P(X=3)=\\binom{4}{3}0.90^3(1-0.90)^1=0.2916$$\n",
    "$$P(\\text{Examinar 5 copas cómo máximo})=0.6561+0.2916\\text{ }0.90=0.9185$$"
   ]
  },
  {
   "cell_type": "code",
   "execution_count": 9,
   "metadata": {},
   "outputs": [
    {
     "name": "stdout",
     "output_type": "stream",
     "text": [
      "0.6561\n",
      "0.2916\n",
      "0.26244\n",
      "0.32805\n"
     ]
    }
   ],
   "source": [
    "from math import factorial\n",
    "print(.9**4)\n",
    "print(4*.9**3*0.1)\n",
    "print(4*.9**3*0.1*0.9)\n",
    "print(factorial(5)/(factorial(4))*.9**4*0.1)"
   ]
  },
  {
   "cell_type": "markdown",
   "metadata": {},
   "source": [
    "Usando una binomial negativa.\n",
    "$$P(X=x)=\\binom{x+r-1}{x}p^r(1-p)^x$$\n",
    "$$P(X=5)=\\binom{5+4-1}{5}0.90^4(1-0.90)^5$$"
   ]
  },
  {
   "cell_type": "code",
   "execution_count": 12,
   "metadata": {},
   "outputs": [
    {
     "name": "stdout",
     "output_type": "stream",
     "text": [
      "0.0013778100000000004\n"
     ]
    }
   ],
   "source": [
    "print(factorial(7)/(factorial(7-5)*factorial(5))*0.9**4*(0.1**4))"
   ]
  },
  {
   "cell_type": "markdown",
   "metadata": {},
   "source": [
    "## Problema 7\n",
    "Seguridad en un aeropuerto. El aumento en la cantidad de pequeños aviones de vuelos cortos en aeropuertos importantes ha generado una creciente preocupación por la seguridad en el aire. Esta preocupación es especialmente relevante en un aeropuerto de la región este, donde se ha registrado un promedio mensual de cinco incidentes de pequeños accidentes durante aterrizajes y despegues en los últimos cinco años. Aunque estos incidentes no han resultado en complicaciones graves para los pasajeros, la frecuencia con la que ocurren\n",
    "subraya la necesidad de evaluar las probabilidades y los riesgos asociados para tomar medidas adecuadas y mejorar la seguridad.\n",
    "\n",
    "En el contexto de un aeropuerto, los incidentes que podrían ser clasificados como pequeños accidentes durante el aterrizaje o despegue de un avión pueden variar en naturaleza y gravedad. Basado en la documentación y las estadísticas de la aviación, aquí hay una lista detallad de incidentes que podrían ser considerados como tales:\n",
    "\n",
    "− Rebote durante el aterrizaje: Ocurre cuando el avión toca la pista y vuelve a elevarse antes de asentarse completamente. Esto puede ser causado por una velocidad de descenso inadecuada o una incorrecta maniobra del piloto.\n",
    "\n",
    "− Deslizamiento lateral: Cuando el avión se desplaza lateralmente en la pista durante el aterrizaje, generalmente debido a condiciones de viento cruzado o superficies resbaladizas.\n",
    "\n",
    "− Aterrizaje con tren de aterrizaje dañado: Aterrizajes donde el tren de aterrizaje no se despliega correctamente o falla parcialmente, resultando en un aterrizaje duro o una inclinación inusual del avión.\n",
    "\n",
    "− Excursión de pista: Cuando el avión se sale de la pista durante el aterrizaje, lo cual puede ocurrir por exceso de velocidad, condiciones meteorológicas adversas, o problemas mecánicos.\n",
    "\n",
    "− Sobrepaso de pista: Ocurre cuando el avión no logra detenerse a tiempo y se sale del final de la pista. Esto puede ser causado por un cálculo erróneo de la distancia de frenado, condiciones de pista mojada o helada, o problemas con los frenos.\n",
    "\n",
    "− Tocamiento de alas o cola: Durante el aterrizaje, el ala o la cola del avión puede tocar la pista, generalmente debido a una actitud incorrecta del avión en el momento del aterrizaje.\n",
    "\n",
    "− Abortar el despegue: Cuando el despegue se interrumpe por problemas técnicos, mal funcionamiento de los sistemas del avión, o la detección de un obstáculo en la pista.\n",
    "\n",
    "− Pérdida de potencia en motores: Durante el despegue, puede ocurrir una pérdida temporal de potencia en uno o más motores, obligando al piloto a manejar una situación de emergencia.\n",
    "\n",
    "− Colisión con aves: Impacto con aves durante el despegue, lo cual puede causar daños a los motores y otras partes del avión. \n",
    "\n",
    "− Desviación de pista: Similar al deslizamiento lateral en aterrizajes, ocurre cuando el avión se desvía de la pista durante la fase de despegue, generalmente debido a condiciones de viento cruzado o problemas en el control del avión.\n",
    "\n",
    "− Problemas con el tren de aterrizaje: Fallos en el despliegue del tren de aterrizaje durante el despegue pueden llevar a despegues interrumpidos o aterrizajes de emergencia poco después del despegue.\n",
    "\n",
    "− Falla en los sistemas de navegación o comunicaciones: Durante el despegue, pueden ocurrir fallos en los sistemas críticos del avión, requiriendo una respuesta rápida por parte de la tripulación.\n",
    "\n",
    "Para abordar esta situación, se solicita un informe fundamentado en el que se analicen las probabilidades de diversos escenarios relacionados con estos pequeños accidentes. Este informe debe incluir un análisis detallado utilizando una distribución de probabilidad adecuada, que considere el promedio mensual de incidentes y compare estas estadísticas con datos de otros aeropuertos similares. Es importante justificar la elección de la distribución de probabilidad utilizada y proporcionar una interpretación clara de los valores encontrados en términos de probabilidad. Particularmente, se debe analizar la probabilidad de que en un mes determinado no ocurra ningún incidente de este tipo de accidente durante aterrizajes y despegues. Este análisis debe fundamentarse en la distribución de probabilidad seleccionada y proporcionar una interpretación de los resultados, indicando si es un escenario altamente probable o poco probable.\n",
    "\n",
    "Posteriormente, se debe determinar la probabilidad de que ocurra una cantidad específica de incidentes de accidentes en un mes, basada en las estadísticas de otros aeropuertos similares. Esto implicará investigar y buscar información sobre la frecuencia de estos incidentes en otros contextos comparables, utilizando estos datos para fundamentar las probabilidades calculadas.\n",
    "\n",
    "Finalmente, el informe debe evaluar la probabilidad de que ocurra al menos un número mínimo de incidentes de este tipo de accidentes durante un mes particular. Este análisis también debe estar basado en datos comparativos y proporcionar una interpretación de los resultados, indicando si es un escenario altamente probable o poco probable.\n",
    "\n",
    "Se espera que el informe no solo presente los cálculos y las probabilidades correspondientes, sino que también ofrezca una interpretación y justificación detallada de los resultados. Es esencial, que se analicen las implicancias de estos valores en términos de seguridad aeroportuaria y se propongan posibles medidas o recomendaciones para mitigar los riesgos asociados a este tipo de accidentes durante aterrizajes y despegues. Para fundamentar los detalles de estos incidentes, es esencial revisar la documentación de incidentes aeroportuarios de entidades como la Administración Federal de Aviación (FAA), la Agencia Europea de Seguridad Aérea (EASA), y la Organización de Aviación Civil Internacional (OACI). Estos organismos publican reportes detallados sobre incidentes y accidentes, incluyendo estadísticas y análisis de “casi accidentes”,\n",
    "que pueden proporcionar información valiosa para evaluar y contextualizar los riesgos en el aeropuerto en cuestión. El análisis de estos incidentes permite a los gestores aeroportuarios y a las autoridades de aviación tomar decisiones informadas para mejorar la seguridad, implementar procedimientos preventivos, y minimizar la ocurrencia de tales eventos."
   ]
  },
  {
   "cell_type": "markdown",
   "metadata": {},
   "source": [
    "La ocurrencia de los accidentes se puede modelar como un proceso Poisson ya que cumple con sus características:\n",
    "1. La tasa de ocurrencia de los accidentes es constante.\n",
    "1. No pueden ocurrir dos accidentes simultáneamente.\n",
    "1. Los accidentes son independientes entre si.\n",
    "\n",
    "La tasa de ocurrencia de accidentes es de $\\lambda=5/día$.\n",
    "$$P(X = x) = \\frac{e^{-\\lambda}\\lambda^x}{x!}$$"
   ]
  },
  {
   "cell_type": "code",
   "execution_count": 12,
   "metadata": {},
   "outputs": [
    {
     "name": "stdout",
     "output_type": "stream",
     "text": [
      "0 0.006737946999085469 0.006737946999085469\n",
      "1 0.033689734995427344 0.04042768199451281\n",
      "2 0.08422433748856836 0.12465201948308118\n",
      "3 0.14037389581428059 0.26502591529736175\n",
      "4 0.17546736976785074 0.44049328506521246\n",
      "5 0.17546736976785074 0.6159606548330632\n",
      "6 0.14622280813987562 0.7621834629729388\n",
      "7 0.10444486295705402 0.8666283259299928\n",
      "8 0.06527803934815876 0.9319063652781516\n",
      "9 0.036265577415643756 0.9681719426937954\n",
      "10 0.018132788707821874 0.9863047314016172\n",
      "11 0.008242176685373581 0.9945469080869909\n",
      "12 0.003434240285572325 0.9979811483725632\n",
      "13 0.0013208616482970482 0.9993020100208603\n",
      "14 0.0004717363029632315 0.9997737463238235\n",
      "15 0.00015724543432107718 0.9999309917581446\n",
      "16 4.9139198225336615e-05 0.99998013095637\n",
      "17 1.4452705360393122e-05 0.9999945836617303\n",
      "18 4.014640377886979e-06 0.9999985983021082\n",
      "19 1.0564843099702575e-06 0.9999996547864182\n"
     ]
    }
   ],
   "source": [
    "from math import e, factorial\n",
    "alambda=5\n",
    "xs = []\n",
    "ps = []\n",
    "accs = []\n",
    "acc = 0\n",
    "for i in range(20):\n",
    "    p=(e**(-alambda)*(alambda**i))/factorial(i)\n",
    "    acc += p \n",
    "    print(i, p, acc)\n",
    "    xs.append(i)\n",
    "    ps.append(p)\n",
    "    accs.append(acc)"
   ]
  },
  {
   "cell_type": "code",
   "execution_count": 16,
   "metadata": {},
   "outputs": [
    {
     "data": {
      "text/plain": [
       "<BarContainer object of 20 artists>"
      ]
     },
     "execution_count": 16,
     "metadata": {},
     "output_type": "execute_result"
    },
    {
     "data": {
      "image/png": "[encoded data removed]",
      "text/plain": [
       "<Figure size 640x480 with 1 Axes>"
      ]
     },
     "metadata": {},
     "output_type": "display_data"
    },
    {
     "data": {
      "image/png": "[encoded data removed]",
      "text/plain": [
       "<Figure size 640x480 with 1 Axes>"
      ]
     },
     "metadata": {},
     "output_type": "display_data"
    }
   ],
   "source": [
    "from matplotlib import pyplot as plt\n",
    "\n",
    "fig1 = plt.figure()\n",
    "fig2 = plt.figure()\n",
    "\n",
    "ax1 = fig1.add_subplot()\n",
    "ax2 = fig2.add_subplot()\n",
    "\n",
    "ax1.bar(xs, ps)\n",
    "ax2.bar(xs, accs)"
   ]
  },
  {
   "cell_type": "markdown",
   "metadata": {},
   "source": [
    "Calculo de la media y la varianza"
   ]
  },
  {
   "cell_type": "code",
   "execution_count": 18,
   "metadata": {},
   "outputs": [
    {
     "name": "stdout",
     "output_type": "stream",
     "text": [
      "Media 4.999992991510539\n",
      "Varianza 4.999919037583918\n"
     ]
    }
   ],
   "source": [
    "import numpy as np\n",
    "\n",
    "xs = np.array(xs)\n",
    "ps = np.array(ps)\n",
    "m = sum(xs*ps)\n",
    "v = sum(ps*(xs-m)**2)\n",
    "\n",
    "\n",
    "print(\"Media\", m)\n",
    "print(\"Varianza\", v)"
   ]
  }
 ],
 "metadata": {
  "interpreter": {
   "hash": "2c6a23e5ca86e48af99ddb8d87a6f8a76f480f6605a8646019b2b2d50a997dfd"
  },
  "kernelspec": {
   "display_name": "Python 3.9.13 ('base')",
   "language": "python",
   "name": "python3"
  },
  "language_info": {
   "codemirror_mode": {
    "name": "ipython",
    "version": 3
   },
   "file_extension": ".py",
   "mimetype": "text/x-python",
   "name": "python",
   "nbconvert_exporter": "python",
   "pygments_lexer": "ipython3",
   "version": "3.9.13"
  },
  "orig_nbformat": 4
 },
 "nbformat": 4,
 "nbformat_minor": 2
}
