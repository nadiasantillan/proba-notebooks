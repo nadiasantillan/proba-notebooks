{
 "cells": [
  {
   "cell_type": "markdown",
   "metadata": {},
   "source": [
    "## Ejercicio N° 3\n",
    "Una gasolinería cuenta tanto con islas de autoservicio como de servicio completo. En cada isla, hay una sola\n",
    "bomba de gasolina sin plomo regular con dos mangueras.\n",
    "Sea X el número de mangueras utilizadas en la isla de autoservicio y en un tiempo particular y sea Y el número\n",
    "de mangueras en uso en la isla de servicio completo en ese tiempo. La función masa de probabilidad conjunta de X y Y aparece en la tabla adjunta.\n",
    "\n",
    "a) Calcule la probabilidad de que ninguna de las mangueras está siendo utilizada tanto en la isla de\n",
    "autoservicio como en la de servicio completo.\n",
    "\n",
    "b) Determine el valor esperado del número de mangueras en uso en la isla de servicio completo.\n",
    "\n",
    "|p(x,y)|0|1|2|\n",
    "|-----:|-:|-:|-:|\n",
    "|0|0.10|0.04|0.02|\n",
    "|1|0.08|0.20|0.06|\n",
    "|2|0.06|0.14|0.30|"
   ]
  },
  {
   "cell_type": "markdown",
   "metadata": {},
   "source": [
    "## Solución\n",
    "\n",
    "Se verifica que la función distribución de probabilidad cumpla con:\n",
    "\n",
    "1. Es positiva para todo $0\\le{x}\\le{2}$ e ${0\\le{y}\\le{2}}$\n",
    "1. La suma de p(x, y) es 1\n",
    "$$\\sum_{x=0}^2\\sum_{y=0}^{2}p(x, y)=1$$\n",
    "$$0.10+0.04+0.02+0.08+0.20+0.06+0.06+0.14+0.30=1$$"
   ]
  },
  {
   "cell_type": "code",
   "execution_count": 2,
   "metadata": {},
   "outputs": [
    {
     "name": "stdout",
     "output_type": "stream",
     "text": [
      "suma 1.0\n"
     ]
    }
   ],
   "source": [
    "pxy=[[0.1,0.04, 0.02],[0.08,0.20, 0.06],[0.06,0.14, 0.30]]\n",
    "s = 0\n",
    "for i in range(3):\n",
    "    for j in range(3):\n",
    "        s+=pxy[i][j]\n",
    "print(\"suma\", s)"
   ]
  },
  {
   "cell_type": "markdown",
   "metadata": {},
   "source": [
    "Se calcula la función masa de probabilidad marginal de Y\n",
    "|p(x,y)|0|1|2|\n",
    "|-----:|-:|-:|-:|\n",
    "|0|0.10|0.04|0.02|\n",
    "|1|0.08|0.20|0.06|\n",
    "|2|0.06|0.14|0.30|\n",
    "| |0.24|0.38|0.38|\n",
    "\n",
    "Se calcula el valor esperado como\n",
    "$$E[Y]=\\sum_{y=0}^{2} y.\\sum_{x=0}^{2} p(x, y)=0.24.0+0.38.1+0.38.2=1.14$$"
   ]
  },
  {
   "cell_type": "code",
   "execution_count": 3,
   "metadata": {},
   "outputs": [
    {
     "data": {
      "text/plain": [
       "1.1400000000000001"
      ]
     },
     "execution_count": 3,
     "metadata": {},
     "output_type": "execute_result"
    }
   ],
   "source": [
    "0.38*3"
   ]
  }
 ],
 "metadata": {
  "interpreter": {
   "hash": "2c6a23e5ca86e48af99ddb8d87a6f8a76f480f6605a8646019b2b2d50a997dfd"
  },
  "kernelspec": {
   "display_name": "Python 3.9.13 ('base')",
   "language": "python",
   "name": "python3"
  },
  "language_info": {
   "codemirror_mode": {
    "name": "ipython",
    "version": 3
   },
   "file_extension": ".py",
   "mimetype": "text/x-python",
   "name": "python",
   "nbconvert_exporter": "python",
   "pygments_lexer": "ipython3",
   "version": "3.9.13"
  },
  "orig_nbformat": 4
 },
 "nbformat": 4,
 "nbformat_minor": 2
}
