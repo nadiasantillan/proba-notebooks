{
 "cells": [
  {
   "cell_type": "markdown",
   "metadata": {},
   "source": [
    "## EJERCICIO 1\n",
    "Una entidad bancaria impone condiciones para el acceso a Home Banking. Las condiciones son las siguientes:\n",
    "\n",
    "- La clave debe tener exactamente 4 dígitos, compuestos por letras y números.\n",
    "- No puede haber más de 2 letras y/o números iguales consecutivos.\n",
    "- La nueva clave no puede ser igual a la última utilizada.\n",
    "\n",
    "¿Cuántas combinaciones son posibles si la clave está compuesta por 3 letras seguidas de 1 número? ¿Cuál es la probabilidad de que una clave aleatoria cumpla con todas estas condiciones?"
   ]
  },
  {
   "cell_type": "markdown",
   "metadata": {},
   "source": [
    "## Solución\n",
    "\n",
    "Se asume que las letras posibles son 26. Se deja a la ñ aparte. Para cada letra de la clave hay 26 elecciones posibles, para cada número 10 posibles.\n",
    "\n",
    "Si la clave está compuesta por 3 letras seguidas de un número, siendo cada elección independiente de las anteriores, se puede usar el principio de multiplicación para calcular el número de combinaciones.\n",
    "$$C=26.26.26.10=175760$$\n",
    "\n",
    "Las claves formadas por 3 letras y un número que no cumplen las condiciones son las que tienen 3 letras repetidas. Dado que sólo hay una elección posible de letra, hay 26 posibilidades por los 10 números posibles.\n",
    "$$C_{nocumple}=26.10=2600$$\n",
    "\n",
    "$$C_{cumple}=175760-2600=175500$$\n",
    "\n",
    "Usando la regla de Laplace, la probabilidad de no cumplir las condiciones se puede calcular como:\n",
    "$$p_{nocumple} = \\frac{CasosFavorables}{CasosPosibles}$$\n",
    "$$p_{nocumple}=\\frac{26.10}{26.26.26.10}=\\frac{1}{26.26}=0.001479$$\n",
    "La probabilidad de que una clave compuesta por 3 letras seguidas de un número cumpla las condiciones puede ser calculada usando el complemento a 1.\n",
    "$$p_{cumple}=1-p_{nocumple}=1-0.001479=0.998521$$\n",
    "\n",
    "Para calcular la posibilidad de una clave aleatoria que cumpla todos los requisitos, se calculan los casos posibles como la cantidad de claves de 4 números y letras. Para cada dígito existen 36 posibilidades.\n",
    "También por el principio multiplicativo:\n",
    "$$C=36^4=1679616$$\n",
    "\n",
    "Para calcular las combinaciones que no cumplen los requisitos se calculan la cantidad de claves con 3 y 4 letras y/o números repetidos.\n",
    "\n",
    "#### 4 dígitos repetidos\n",
    "Sólo hay una elección posible.\n",
    "$$C_{4}=36$$\n",
    "#### 3 dígitos repetidos\n",
    "Hay 36 posibilidades para elegir uno de los dígitos y 35 para elegir el que se repite 3 veces.\n",
    "$$C_{3}=36.35=1260$$\n",
    "\n",
    "Los dígitos repetidos pueden ubicarse en 2 posiciones en la clave: DRRR y RRRD. Se multiplica por 2 el número obtenido anteriormente.\n",
    "$$C_{3T}=2.36.35=2520$$\n",
    "\n",
    "### Probabilidad \n",
    "El número de claves que no cumplen se calcula como la suma de las claves con 4 dígitos repetidos y 3 dígitos repetidos ya que son mutuamente excluyentes.\n",
    "$$C_{34}=C_{3T}+C_{4}=2520+36=2556$$\n",
    "Por la regla de Laplace, la probabilidad de no cumplir se calcula como casos favorables sobre casos posibles.\n",
    "$$p_{nocumple} = \\frac{CasosFavorables}{CasosPosibles}=\\frac{2556}{1679616}=0.001522$$\n",
    "\n",
    "La probabilidad de que una clave si cumpla se calcula como el complemento a 1 de la probabilidad de que no cumpla.\n",
    "$$p_{cumple}=1-p_{nocumple}=1-0.001522=0.998478$$"
   ]
  },
  {
   "cell_type": "code",
   "execution_count": 25,
   "metadata": {},
   "outputs": [
    {
     "name": "stdout",
     "output_type": "stream",
     "text": [
      "175760\n",
      "175500\n",
      "0.0014792899408284023\n",
      "0.9985207100591716\n",
      "1679616\n",
      "1260\n",
      "2520\n",
      "2556\n",
      "0.0015217764060356652\n",
      "0.9984782235939643\n",
      "170560\n",
      "169000\n"
     ]
    }
   ],
   "source": [
    "print(26*26*26*10)\n",
    "print(26*26*26*10-26*10)\n",
    "print((26*10)/(26*26*26*10))\n",
    "print(1-(26*10)/(26*26*26*10))\n",
    "print(36**4)\n",
    "print(36*35)\n",
    "print(2*36*35)\n",
    "print(2*36*35+36)\n",
    "print(2556/1679616)\n",
    "print(1-2556/1679616)\n",
    "print(175760-5200)\n",
    "print(26*26*25*10)"
   ]
  },
  {
   "cell_type": "code",
   "execution_count": 26,
   "metadata": {},
   "outputs": [
    {
     "data": {
      "text/plain": [
       "17550"
      ]
     },
     "execution_count": 26,
     "metadata": {},
     "output_type": "execute_result"
    }
   ],
   "source": [
    "from itertools import product\n",
    "letras = \"abcdefghijklmnopqrstuvwxyz\"\n",
    "\n",
    "def requisitos(c):\n",
    "    res = True\n",
    "    r = 0\n",
    "    for i in range(1, len(c)):\n",
    "        if c[i] == c[i-1]:\n",
    "            r+=1\n",
    "        else:\n",
    "            r = 0\n",
    "        if r >= 2:\n",
    "           res = False\n",
    "\n",
    "    return res\n",
    "len([\"\".join(c) for c in product(letras, repeat=3) if requisitos(c)])\n"
   ]
  },
  {
   "cell_type": "markdown",
   "metadata": {},
   "source": [
    "## EJERCICIO 4\n",
    "Envases Plásticos Argentinos, una empresa líder en la industria de envases plásticos con una trayectoria de más de 15 años, cuenta con dos máquinas de producción en su planta de última generación. Según registros internos, una de estas máquinas, conocida como Inyectora 2000, produce en un 20% piezas defectuosas, mientras que la otra,\n",
    "denominada Sopladora Estrella, en un 10%. Además, los datos recopilados indican que Inyectora 2000 es\n",
    "responsable de producir el 60% del total de piezas fabricadas en la planta de Envases Plásticos Argentinos. En un trabajo de mejora de análisis de la producción necesitan determinar ¿Cuál es el porcentaje de piezas defectuosas en la producción total? Y pensando quizás en remplazar algunas de sus máquinas quisieran determinar: ¿Si la pieza es defectuosa qué probabilidad hay que sea de Inyectora 2000?"
   ]
  },
  {
   "cell_type": "markdown",
   "metadata": {},
   "source": [
    "## Solución\n",
    "Se realiza la tabla de las probabilidades.\n",
    "\n",
    "Los datos del problema son:\n",
    "$$P(Defectuosa|Inyectora 2000)=0.2$$\n",
    "$$P(Defectuosa|Sopladora Estrella)=0.1$$\n",
    "$$P(Inyectora 2000)=0.6$$\n",
    "$$P(Sopladora Estrella)=0.4$$\n",
    "\n",
    "$$P(Defectuosa|Inyectora 2000)=\\frac{P(Defectuosa\\cap{Inyectora 2000})}{P(Inyectora 2000)}$$\n",
    "Despejando la probabilidad conjunta:\n",
    "$$P(Defectuosa\\cap{Inyectora 2000})=P(Defectuosa|Inyectora 2000).P(Inyectora 2000)=0.20.0.6=0.12$$\n",
    "| |Inyectora 2000|Sopladora Estrella|Totales|\n",
    "|-|-------------:|-----------------:|-|\n",
    "|Defectuosas|0.12|0.04|0.16|\n",
    "|Ok|0.48|0.36|0.84|\n",
    "|Totales|0.60|0.40||\n",
    "\n",
    "Por la ley de probabilidad total\n",
    "$$P(Defectuosa)=P(Defectuosa|Inyectora 2000).P(Inyectora 2000) + P(Defectuosa|Sopladora Estrella).P(Sopladora Estrella)$$\n",
    "$$P(Defectuosa)=0.2.0.6+0.1.0.4=0.16$$\n",
    "\n",
    "La segunda parte del problema pide $P(Inyectora 2000|Defectuosa)$:\n",
    "$$P(Inyectora 2000|Defectuosa)=\\frac{P(Defectuosa\\cap{Inyectora 2000})}{P(Defectuosa)}$$\n",
    "$$P(Inyectora 2000|Defectuosa)=\\frac{0.12}{0.16}=0.75$$"
   ]
  },
  {
   "cell_type": "code",
   "execution_count": 29,
   "metadata": {},
   "outputs": [
    {
     "name": "stdout",
     "output_type": "stream",
     "text": [
      "0.12\n",
      "0.04000000000000001\n",
      "0.75\n"
     ]
    }
   ],
   "source": [
    "print(0.2*0.6)\n",
    "print(0.1*0.4)\n",
    "print(0.12/0.16)"
   ]
  }
 ],
 "metadata": {
  "interpreter": {
   "hash": "2c6a23e5ca86e48af99ddb8d87a6f8a76f480f6605a8646019b2b2d50a997dfd"
  },
  "kernelspec": {
   "display_name": "Python 3.9.13 ('base')",
   "language": "python",
   "name": "python3"
  },
  "language_info": {
   "codemirror_mode": {
    "name": "ipython",
    "version": 3
   },
   "file_extension": ".py",
   "mimetype": "text/x-python",
   "name": "python",
   "nbconvert_exporter": "python",
   "pygments_lexer": "ipython3",
   "version": "3.9.13"
  },
  "orig_nbformat": 4
 },
 "nbformat": 4,
 "nbformat_minor": 2
}
