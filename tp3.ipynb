{
 "cells": [
  {
   "cell_type": "markdown",
   "metadata": {},
   "source": [
    "## Problema 4. \n",
    "La evaluación de la seguridad estructural de un edificio implica analizar si la estructura es capaz de resistir las cargas y fuerzas a las que está expuesta durante su vida útil, sin sufrir colapsos o daños catastróficos. Esto se realiza mediante una combinación de métodos de diseño, cálculos estructurales y análisis de riesgos.\n",
    "\n",
    "En particular, las columnas de un edificio son de suma importancia para la seguridad estructural ya que son elementos fundamentales en la carga vertical y la estabilidad del edificio. Soportan el peso de los pisos superiores y transmiten, además, estas cargas hacia los cimientos, asegurando la estabilidad y resistencia del edificio en su conjunto. El análisis de las columnas implica evaluar su capacidad para resistir las fuerzas de compresión, flexión y torsión a las que puedan estar sometidas. Se deben considerar factores como la resistencia del material, las dimensiones de la columna, la geometría de la estructura y las cargas esperadas durante la vida útil del edificio.\n",
    "\n",
    "En la ingeniería estructural, la fuerza que actúa en una columna puede variar ampliamente dependiendo de varios factores, como el diseño de la estructura, las cargas aplicadas, las condiciones del entorno, entre otros. La distribución de estas fuerzas puede ser el resultado de la combinación de múltiples variables aleatorias, lo que podría llevar a una distribución normal si se cumplen ciertas condiciones. La media y la desviación estándar de la fuerza en una columna pueden variar significativamente según el tipo de estructura, el entorno y otros factores. En estudios de ingeniería estructural, estas estadísticas suelen derivarse de análisis detallados de cargas, simulaciones computacionales y datos históricos de estructuras similares. Por ejemplo, en\n",
    "un estudio de seguridad estructural de edificios, se podrían calcular la media y la desviación estándar de las fuerzas que actúan en las columnas utilizando datos reales de cargas, mediciones de deformaciones, análisis de tensiones, entre otros. Estos valores pueden variar según la ubicación geográfica, el tipo de construcción, la antigüedad de la estructura y otros factores específicos del proyecto.\n",
    "\n",
    "Consideremos el caso de las columnas de un edificio, donde la fuerza que actúa sobre ellas sigue una distribución normal, con una media de 66723 Newtons y una desviación estándar de 5560 Newtons. Un newton es la unidad de fuerza en el sistema internacional y equivale a la fuerza necesaria para impartir una aceleración de 1 $\\frac{m}{s^2}$ a una masa de 1 kg.\n",
    "\n",
    "A su vez, para garantizar la seguridad estructural de un edificio, es crucial establecer límites de diseño para las fuerzas que actúan sobre sus componentes, como las columnas. En este contexto, se ha considerado que la fuerza límite es dos desviaciones estándar por encima de la media. Al seleccionar dos desviaciones estándar por encima de la media como el límite de diseño, se busca garantizar un margen de seguridad suficiente para mitigar posibles variaciones en las fuerzas que actúan sobre las columnas. Esta práctica proporciona una estrategia sólida para diseñar estructuras robustas y confiables que puedan soportar las cargas esperadas durante su vida útil.\n",
    "\n",
    "a. ¿Cuál es la probabilidad de que una columna soporte una carga superior a cierto umbral crítico, por ejemplo, la fuerza límite?\n",
    "\n",
    "b. ¿Cuál es la probabilidad de que la fuerza en una columna esté dentro de un cierto rango considerado estándar, por ejemplo, entre 60000 y 65000 Newtons?\n",
    "\n",
    "c. ¿Cuál es la probabilidad de que la fuerza en una columna exceda su límite de diseño? Estas probabilidades son importantes para evaluar la seguridad estructural del edificio y para garantizar que la fuerza en la columna esté dentro de los límites aceptables según las especificaciones de diseño y construcción."
   ]
  },
  {
   "cell_type": "markdown",
   "metadata": {},
   "source": [
    "## Solución\n",
    "\n",
    "a. Se estandariza la variable aleatoria fuerza:\n",
    "$$Z=\\frac{u-\\mu}{\\sigma}$$\n",
    "$$\\mu=66723$$\n",
    "$$\\sigma=5560$$\n",
    "\n",
    "Se calcula la fuerza límite establecida en el enunciado:\n",
    "$$F_l=\\mu+2\\sigma=66723+2.5560=77843$$\n",
    "\n",
    "Se estandariza $F_l$\n",
    "$$Z_l=\\frac{F_l-\\mu}{\\sigma}=\\frac{\\mu+2\\sigma-\\mu}{\\sigma}=2$$\n",
    "\n",
    "Se calcula $P(Z\\le2)=F(2)=\\frac{1}{2}(1+Erf(\\frac{2}{\\sqrt{2}}))=0.9772$\n",
    "$$P(Z > 2)=1-P(X\\le2)=1-0.9772=0.0228$$\n",
    "\n",
    "La probabilidad de que una columna soporte una fuerza mayor a la fuerza límite es de 0.0228 o del 2.28%."
   ]
  },
  {
   "cell_type": "code",
   "execution_count": 3,
   "metadata": {},
   "outputs": [
    {
     "name": "stdout",
     "output_type": "stream",
     "text": [
      "77843\n",
      "0.9772498680518208\n",
      "0.02275013194817921\n"
     ]
    }
   ],
   "source": [
    "from math import erf, sqrt\n",
    "print(66723+2*5560)\n",
    "\n",
    "print((1+erf(2/sqrt(2)))/2)\n",
    "print(1-(1+erf(2/sqrt(2)))/2)"
   ]
  },
  {
   "cell_type": "markdown",
   "metadata": {},
   "source": [
    "b. Se estandarizan los límites del rango.\n",
    "$$Z_{60000}=\\frac{60000-66723}{5560}=-1.2092$$\n",
    "$$Z_{65000}=\\frac{65000-66723}{5560}=-0.3099$$\n",
    "\n",
    "$$P(60000\\le{X}\\le65000)=P(-1.2092\\le{Z}\\le-0.3099)=P(Z\\le-0.3099)-P(Z\\le-1.2092)$$\n",
    "$$F(-0.3099)-F(-1.2092)=0.265$$"
   ]
  },
  {
   "cell_type": "code",
   "execution_count": 10,
   "metadata": {},
   "outputs": [
    {
     "name": "stdout",
     "output_type": "stream",
     "text": [
      "-1.2091726618705037 -0.30989208633093523\n",
      "0.11329825912615832 0.37832151048524537\n",
      "0.26502325135908705\n"
     ]
    }
   ],
   "source": [
    "zl=(60000-66723)/5560\n",
    "zr=(65000-66723)/5560\n",
    "print(zl, zr)\n",
    "print((1+erf(zl/sqrt(2)))/2,(1+erf(zr/sqrt(2)))/2)\n",
    "print((1+erf(zr/sqrt(2)))/2-(1+erf(zl/sqrt(2)))/2)"
   ]
  },
  {
   "cell_type": "markdown",
   "metadata": {},
   "source": [
    "## Problema 8\n",
    "Un termopar es un dispositivo utilizado para medir temperaturas basado en el principio de que cuando dos metales diferentes se unen, se genera una pequeña corriente eléctrica que varía con la temperatura. Consiste en dos alambres de metales diferentes unidos en un extremo, y cuando este punto de unión se expone a una temperatura diferente, se produce una diferencia de potencial que puede ser medida para determinar la temperatura.\n",
    "La relevancia de los termopares radica en su amplio uso en diversas aplicaciones industriales, científicas y comerciales para medir temperaturas en una amplia gama de condiciones. Son conocidos por su versatilidad, precisión y capacidad para funcionar en entornos extremos, lo que los hace adecuados para una variedad de aplicaciones, como control de procesos industriales, monitoreo de temperatura en laboratorios, mediciones de temperatura en motores y sistemas de calefacción, entre otros. Los termopares se utilizan en situaciones donde otros sensores de temperatura pueden no ser prácticos debido a condiciones adversas como alta temperatura,\n",
    "presión o exposición a sustancias corrosivas.\n",
    "\n",
    "Consideremos un escenario donde se toma la lectura de temperatura utilizando un termopar colocado en un medio con temperatura constante. Esta lectura se distribuye normalmente con una media μ, que representa la temperatura real del medio, y una desviación estándar σ. La desviación estándar σ es esencial para comprender la dispersión de las lecturas de temperatura alrededor de la media. Si σ es demasiado grande, las lecturas pueden variar ampliamente, lo que indica una baja precisión en la medición.\n",
    "\n",
    "Por otro lado, si σ es demasiado pequeño, las lecturas tenderán a estar muy cerca de la media, lo que podría no reflejar adecuadamente la verdadera variabilidad del medio. ¿Qué valor debería tener σ de manera que el 95% de todas las lecturas estén dentro de 0.1o de μ? Fundamenta tu respuesta."
   ]
  },
  {
   "cell_type": "markdown",
   "metadata": {},
   "source": [
    "## Solución\n",
    "\n",
    "$$\\frac{\\mu+0.10-\\mu}{\\sigma}\\le1.96$$\n",
    "$$\\frac{0.10}{1.96}\\le\\sigma=0.051$$"
   ]
  },
  {
   "cell_type": "code",
   "execution_count": 13,
   "metadata": {},
   "outputs": [
    {
     "name": "stdout",
     "output_type": "stream",
     "text": [
      "0.05102040816326531\n"
     ]
    }
   ],
   "source": [
    "from scipy.stats import norm\n",
    "norm.ppf(0.975)\n",
    "norm.cdf(1.96)-norm.cdf(-1.96)\n",
    "print(0.10/1.96)"
   ]
  },
  {
   "cell_type": "markdown",
   "metadata": {},
   "source": [
    "## Distribucion Normal\n",
    "$$f(x)=\\frac{1}{\\sigma\\sqrt{2\\pi}}e^{\\frac{-(x-\\mu)^2}{2\\sigma^2}}$$\n",
    "\n",
    "## Función de Probabilidad Acumulada\n",
    "$$F(x)=\\frac{1}{\\sigma\\sqrt{2\\pi}}\\int_{-\\infty}^{x}e^{\\frac{-(x-\\mu)^2}{2\\sigma^2}}dx$$\n",
    "\n",
    "### Cambio de variable\n",
    "$$z=\\frac{x-\\mu}{\\sqrt{2}\\sigma}$$\n",
    "$$dz=\\frac{dx}{\\sqrt{2}\\sigma}$$\n",
    "$$dz\\sqrt{2}\\sigma=dx$$\n",
    "$$F(x)=\\frac{1}{\\sigma\\sqrt{2\\pi}}\\int_{-\\infty}^{x}e^{\\frac{-(x-\\mu)^2}{2\\sigma^2}}dx$$\n",
    "$$F(x)=\\frac{\\sqrt{2}\\sigma}{\\sigma\\sqrt{2\\pi}}\\int_{-\\infty}^{\\frac{x-\\mu}{\\sigma\\sqrt{2}}}e^{-z^2}dz=\\frac{1}{\\sqrt{\\pi}}\\int_{-\\infty}^{\\frac{x-\\mu}{\\sigma\\sqrt{2}}}e^{-z^2}dz=\\frac{1}{\\sqrt{\\pi}}(\\int_{-\\infty}^{0}e^{-z^2}dz+\\int_{0}^{\\frac{x-\\mu}{\\sigma\\sqrt{2}}}e^{-z^2}dz)$$\n",
    "\n",
    "$$F(x)=\\frac{1}{\\sqrt{\\pi}}(\\frac{\\sqrt{\\pi}}{2}+\\int_{0}^{\\frac{x-\\mu}{\\sigma\\sqrt{2}}}e^{-z^2}dz)$$\n",
    "$$F(x)=\\frac{1}{\\sqrt{\\pi}}(\\frac{\\sqrt{\\pi}}{2}+\\frac{\\sqrt{\\pi}}{2}Erf(\\frac{x-\\mu}{\\sigma\\sqrt{2}}))$$\n",
    "$$F(x)=\\frac{1}{2}(1+Erf(\\frac{x-\\mu}{\\sigma\\sqrt{2}}))$$\n",
    "## Función error\n",
    "$$Erf(x)=\\frac{2}{\\sqrt{\\pi}}\\int_{0}^{x}e^{-t^2}dt$$"
   ]
  },
  {
   "cell_type": "code",
   "execution_count": null,
   "metadata": {},
   "outputs": [],
   "source": []
  }
 ],
 "metadata": {
  "interpreter": {
   "hash": "2c6a23e5ca86e48af99ddb8d87a6f8a76f480f6605a8646019b2b2d50a997dfd"
  },
  "kernelspec": {
   "display_name": "Python 3.9.13 ('base')",
   "language": "python",
   "name": "python3"
  },
  "language_info": {
   "codemirror_mode": {
    "name": "ipython",
    "version": 3
   },
   "file_extension": ".py",
   "mimetype": "text/x-python",
   "name": "python",
   "nbconvert_exporter": "python",
   "pygments_lexer": "ipython3",
   "version": "3.9.13"
  },
  "orig_nbformat": 4
 },
 "nbformat": 4,
 "nbformat_minor": 2
}
