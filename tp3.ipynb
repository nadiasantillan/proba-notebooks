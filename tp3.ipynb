{
 "cells": [
  {
   "cell_type": "markdown",
   "metadata": {},
   "source": [
    "## Problema 4. \n",
    "La evaluación de la seguridad estructural de un edificio implica analizar si la estructura es capaz de resistir las cargas y fuerzas a las que está expuesta durante su vida útil, sin sufrir colapsos o daños catastróficos. Esto se realiza mediante una combinación de métodos de diseño, cálculos estructurales y análisis de riesgos.\n",
    "\n",
    "En particular, las columnas de un edificio son de suma importancia para la seguridad estructural ya que son elementos fundamentales en la carga vertical y la estabilidad del edificio. Soportan el peso de los pisos superiores y transmiten, además, estas cargas hacia los cimientos, asegurando la estabilidad y resistencia del edificio en su conjunto. El análisis de las columnas implica evaluar su capacidad para resistir las fuerzas de compresión, flexión y torsión a las que puedan estar sometidas. Se deben considerar factores como la resistencia del material, las dimensiones de la columna, la geometría de la estructura y las cargas esperadas durante la vida útil del edificio.\n",
    "\n",
    "En la ingeniería estructural, la fuerza que actúa en una columna puede variar ampliamente dependiendo de varios factores, como el diseño de la estructura, las cargas aplicadas, las condiciones del entorno, entre otros. La distribución de estas fuerzas puede ser el resultado de la combinación de múltiples variables aleatorias, lo que podría llevar a una distribución normal si se cumplen ciertas condiciones. La media y la desviación estándar de la fuerza en una columna pueden variar significativamente según el tipo de estructura, el entorno y otros factores. En estudios de ingeniería estructural, estas estadísticas suelen derivarse de análisis detallados de cargas, simulaciones computacionales y datos históricos de estructuras similares. Por ejemplo, en\n",
    "un estudio de seguridad estructural de edificios, se podrían calcular la media y la desviación estándar de las fuerzas que actúan en las columnas utilizando datos reales de cargas, mediciones de deformaciones, análisis de tensiones, entre otros. Estos valores pueden variar según la ubicación geográfica, el tipo de construcción, la antigüedad de la estructura y otros factores específicos del proyecto.\n",
    "\n",
    "Consideremos el caso de las columnas de un edificio, donde la fuerza que actúa sobre ellas sigue una distribución normal, con una media de 66723 Newtons y una desviación estándar de 5560 Newtons. Un newton es la unidad de fuerza en el sistema internacional y equivale a la fuerza necesaria para impartir una aceleración de 1 $\\frac{m}{s^2}$ a una masa de 1 kg.\n",
    "\n",
    "A su vez, para garantizar la seguridad estructural de un edificio, es crucial establecer límites de diseño para las fuerzas que actúan sobre sus componentes, como las columnas. En este contexto, se ha considerado que la fuerza límite es dos desviaciones estándar por encima de la media. Al seleccionar dos desviaciones estándar por encima de la media como el límite de diseño, se busca garantizar un margen de seguridad suficiente para mitigar posibles variaciones en las fuerzas que actúan sobre las columnas. Esta práctica proporciona una estrategia sólida para diseñar estructuras robustas y confiables que puedan soportar las cargas esperadas durante su vida útil.\n",
    "\n",
    "a. ¿Cuál es la probabilidad de que una columna soporte una carga superior a cierto umbral crítico, por ejemplo, la fuerza límite?\n",
    "\n",
    "b. ¿Cuál es la probabilidad de que la fuerza en una columna esté dentro de un cierto rango considerado estándar, por ejemplo, entre 60000 y 65000 Newtons?\n",
    "\n",
    "c. ¿Cuál es la probabilidad de que la fuerza en una columna exceda su límite de diseño? Estas probabilidades son importantes para evaluar la seguridad estructural del edificio y para garantizar que la fuerza en la columna esté dentro de los límites aceptables según las especificaciones de diseño y construcción."
   ]
  },
  {
   "cell_type": "markdown",
   "metadata": {},
   "source": [
    "## Solución\n",
    "\n",
    "a. Se estandariza la variable aleatoria fuerza:\n",
    "$$Z=\\frac{u-\\mu}{\\sigma}$$\n",
    "$$\\mu=66723$$\n",
    "$$\\sigma=5560$$\n",
    "\n",
    "Se calcula la fuerza límite establecida en el enunciado:\n",
    "$$F_l=\\mu+2\\sigma=66723+2.5560=77843$$\n",
    "\n",
    "Se estandariza $F_l$\n",
    "$$Z_l=\\frac{F_l-\\mu}{\\sigma}=\\frac{\\mu+2\\sigma-\\mu}{\\sigma}=2$$\n",
    "\n",
    "Se calcula $P(Z\\le2)=F(2)=\\frac{1}{2}(1+Erf(\\frac{2}{\\sqrt{2}}))=0.9772$\n",
    "$$P(Z > 2)=1-P(X\\le2)=1-0.9772=0.0228$$\n",
    "\n",
    "La probabilidad de que una columna soporte una fuerza mayor a la fuerza límite es de 0.0228 o del 2.28%."
   ]
  },
  {
   "cell_type": "code",
   "execution_count": 3,
   "metadata": {},
   "outputs": [
    {
     "name": "stdout",
     "output_type": "stream",
     "text": [
      "77843\n",
      "0.9772498680518208\n",
      "0.02275013194817921\n"
     ]
    }
   ],
   "source": [
    "from math import erf, sqrt\n",
    "print(66723+2*5560)\n",
    "\n",
    "print((1+erf(2/sqrt(2)))/2)\n",
    "print(1-(1+erf(2/sqrt(2)))/2)"
   ]
  },
  {
   "cell_type": "markdown",
   "metadata": {},
   "source": [
    "b. Se estandarizan los límites del rango.\n",
    "$$Z_{60000}=\\frac{60000-66723}{5560}=-1.2092$$\n",
    "$$Z_{65000}=\\frac{65000-66723}{5560}=-0.3099$$\n",
    "\n",
    "$$P(60000\\le{X}\\le65000)=P(-1.2092\\le{Z}\\le-0.3099)=P(Z\\le-0.3099)-P(Z\\le-1.2092)$$\n",
    "$$F(-0.3099)-F(-1.2092)=0.265$$"
   ]
  },
  {
   "cell_type": "code",
   "execution_count": 10,
   "metadata": {},
   "outputs": [
    {
     "name": "stdout",
     "output_type": "stream",
     "text": [
      "-1.2091726618705037 -0.30989208633093523\n",
      "0.11329825912615832 0.37832151048524537\n",
      "0.26502325135908705\n"
     ]
    }
   ],
   "source": [
    "zl=(60000-66723)/5560\n",
    "zr=(65000-66723)/5560\n",
    "print(zl, zr)\n",
    "print((1+erf(zl/sqrt(2)))/2,(1+erf(zr/sqrt(2)))/2)\n",
    "print((1+erf(zr/sqrt(2)))/2-(1+erf(zl/sqrt(2)))/2)"
   ]
  },
  {
   "cell_type": "markdown",
   "metadata": {},
   "source": [
    "## Problema 8\n",
    "Un termopar es un dispositivo utilizado para medir temperaturas basado en el principio de que cuando dos metales diferentes se unen, se genera una pequeña corriente eléctrica que varía con la temperatura. Consiste en dos alambres de metales diferentes unidos en un extremo, y cuando este punto de unión se expone a una temperatura diferente, se produce una diferencia de potencial que puede ser medida para determinar la temperatura.\n",
    "La relevancia de los termopares radica en su amplio uso en diversas aplicaciones industriales, científicas y comerciales para medir temperaturas en una amplia gama de condiciones. Son conocidos por su versatilidad, precisión y capacidad para funcionar en entornos extremos, lo que los hace adecuados para una variedad de aplicaciones, como control de procesos industriales, monitoreo de temperatura en laboratorios, mediciones de temperatura en motores y sistemas de calefacción, entre otros. Los termopares se utilizan en situaciones donde otros sensores de temperatura pueden no ser prácticos debido a condiciones adversas como alta temperatura,\n",
    "presión o exposición a sustancias corrosivas.\n",
    "\n",
    "Consideremos un escenario donde se toma la lectura de temperatura utilizando un termopar colocado en un medio con temperatura constante. Esta lectura se distribuye normalmente con una media μ, que representa la temperatura real del medio, y una desviación estándar σ. La desviación estándar σ es esencial para comprender la dispersión de las lecturas de temperatura alrededor de la media. Si σ es demasiado grande, las lecturas pueden variar ampliamente, lo que indica una baja precisión en la medición.\n",
    "\n",
    "Por otro lado, si σ es demasiado pequeño, las lecturas tenderán a estar muy cerca de la media, lo que podría no reflejar adecuadamente la verdadera variabilidad del medio. ¿Qué valor debería tener σ de manera que el 95% de todas las lecturas estén dentro de 0.1o de μ? Fundamenta tu respuesta."
   ]
  },
  {
   "cell_type": "markdown",
   "metadata": {},
   "source": [
    "## Solución\n",
    "\n",
    "$$\\frac{\\mu+0.10-\\mu}{\\sigma}\\le1.96$$\n",
    "$$\\frac{0.10}{1.96}\\le\\sigma=0.051$$"
   ]
  },
  {
   "cell_type": "code",
   "execution_count": 13,
   "metadata": {},
   "outputs": [
    {
     "name": "stdout",
     "output_type": "stream",
     "text": [
      "0.05102040816326531\n"
     ]
    }
   ],
   "source": [
    "from scipy.stats import norm\n",
    "norm.ppf(0.975)\n",
    "norm.cdf(1.96)-norm.cdf(-1.96)\n",
    "print(0.10/1.96)"
   ]
  },
  {
   "cell_type": "markdown",
   "metadata": {},
   "source": [
    "## Problema 9\n",
    "Se ha observado que muchos médicos, a menudo, proporcionan información engañosa al confundir la probabilidad condicional de tener cáncer (dado un resultado positivo de la prueba) con la probabilidad condicional de obtener un resultado positivo de la prueba dado que el paciente tiene cáncer. Esta confusión puede llevar a malentendidos sobre los riesgos reales de la enfermedad y afectar negativamente la toma de decisiones médicas, llevando, incluso, a diagnósticos incorrectos y una angustia innecesaria en los pacientes.\n",
    "\n",
    "Consideremos al respecto un ejemplo revelador. Al presentarles cierta información a un grupo de médicos, aproximadamente el 95% de ellos estimaron erróneamente que la probabilidad de tener cáncer dado un resultado positivo de la prueba (P(C|positivo)) estaba entre 0.70 y 0.80, errando por un factor de 10. Supongamos que la prevalencia del cáncer es del 1%, lo que significa que el 1% de la población tiene cáncer. Llamemos al evento de tener cáncer \"C\", entonces P(C) = 0.01 para un sujeto seleccionado al azar de la población.\n",
    "\n",
    "Las características de desempeño de la prueba de detección del cáncer, basadas en \"Probabilistic\n",
    "Reasoning in Clinical Medicine\" de David Eddy (Cambridge University Press), son las siguientes:\n",
    "\n",
    "La tasa de falsos positivos es del 10%. Es decir, la probabilidad de obtener un resultado positivo en la prueba dado que el cáncer no está presente es de P(positivo ∣ ¬C) = 0.10. La tasa de verdaderos positivos es del 80%. Es decir, la probabilidad de obtener un resultado positivo en la prueba dado que el cáncer está presente es de P(positivo ∣ C) = 0.80.\n",
    "\n",
    "Determinar P(C|positivo), es decir, la probabilidad de que un sujeto realmente tenga cáncer\n",
    "dado que obtuvo un resultado positivo en la prueba. Fundamenta tu respuesta."
   ]
  },
  {
   "cell_type": "markdown",
   "metadata": {},
   "source": [
    "## Solución\n",
    "Por el teorema de Bayes:\n",
    "$$P(C|Positivo)=\\frac{P(Positivo|C)P(C)}{P(Positivo)}$$\n",
    "\n",
    "Por la ley de probabilidad total:\n",
    "$$P(Positivo)=P(Positivo|C)P(C)+P(Positivo|\\neg{C})P(\\neg{C})$$\n",
    "$$P(Positivo)=0.80.0.01+0.10.0.99=0.107$$\n",
    "\n",
    "Volviendo a la primera expresión:\n",
    "$$P(C|Positivo)=\\frac{P(Positivo|C)P(C)}{P(Positivo)}=\\frac{0.80*0.01}{0.107}=0.07477$$"
   ]
  },
  {
   "cell_type": "code",
   "execution_count": 3,
   "metadata": {},
   "outputs": [
    {
     "name": "stdout",
     "output_type": "stream",
     "text": [
      "P(Positivo) 0.10700000000000001\n",
      "P(C|Positivo) 0.07476635514018692\n"
     ]
    }
   ],
   "source": [
    "print(\"P(Positivo)\",0.8*0.01+0.1*0.99)\n",
    "print(\"P(C|Positivo)\",(0.8*0.01)/0.107)"
   ]
  },
  {
   "cell_type": "markdown",
   "metadata": {},
   "source": [
    "## Problema 13\n",
    "La presión de los neumáticos en un vehículo es un factor crítico que influye tanto en la seguridad del conductor como en la de otros usuarios de la vía. La presión incorrecta de los neumáticos puede afectar negativamente la capacidad de manejo del vehículo, aumentar la distancia de frenado, provocar deslizamientos y aumentar el riesgo de accidentes. Por lo tanto, es fundamental realizar un análisis detallado de la distribución de la presión de los neumáticos para garantizar condiciones óptimas de seguridad vial.\n",
    "\n",
    "Consideremos un estudio enfocado en un tipo particular de vehículo, donde se supone que cada neumático delantero está inflado a una presión de 26 lb/pulg2. Sin embargo, la presión de aire real en cada neumático es una variable aleatoria, que podemos representar por X para el neumático derecho y Y para el izquierdo. La función de densidad de probabilidad conjunta f(x, y) de estas variables se define como:\n",
    "\n",
    "\\begin{equation}\n",
    "f(x, y)\n",
    "\\begin{cases}\n",
    "k(x^2+y^2)\\text{ }20\\le x\\le 30;20\\le y\\le 30\\\\\n",
    "0\n",
    "\\end{cases}\n",
    "\\end{equation}\n",
    "\n",
    "Donde K es una constante que se determina a partir de la función de densidad de probabilidad y la información disponible para este caso.\n",
    "\n",
    "Para abordar este problema y realizar un análisis completo, se requiere un informe detallado que incluya fundamentos matemáticos sólidos. El informe debe explorar aspectos clave como la probabilidad de que ambos neumáticos estén inflados a una presión inferior a la especificada, la probabilidad de que la diferencia en la presión del aire entre los dos neumáticos sea de cuando mucho 2 lb/pulg2, la distribución marginal de la presión del aire en el neumático derecho e izquierdo, entre otros aspectos que se consideren relevantes.\n",
    "\n",
    "Pedir la probabilidad de que la diferencia en la presión del aire entre los dos neumáticos sea de cuando mucho 2 lb/pulg2 tiene un fundamento importante en términos de seguridad y rendimiento del vehículo. Una diferencia excesiva en la presión de los neumáticos puede afectar negativamente la estabilidad y el manejo del vehículo, lo que aumenta el riesgo de accidentes. Si la diferencia en la presión del aire entre los dos neumáticos es demasiado grande, puede provocar desequilibrios en la tracción, la dirección y la frenada del vehículo. Por ejemplo, un neumático con una presión significativamente más alta que el otro puede causar que el vehículo se incline hacia un lado durante la conducción, lo que afecta la estabilidad y la capacidad de respuesta del conductor ante situaciones de emergencia. Por otro lado, una diferencia excesiva en la presión de los neumáticos también puede provocar un desgaste irregular de los neumáticos, lo que reduce su vida útil y aumenta los costos de mantenimiento del vehículo. En consecuencia, este análisis proporcionará información valiosa para mejorar la seguridad vial al garantizar una presión adecuada de los neumáticos en este tipo de vehículo, lo que contribuirá a reducir los riesgos de accidentes y mejorar la experiencia de conducción para todos los usuarios de la vía. Asimismo, esta información te permite incluir cálculos de probabilidades específicas en el informe que pueden ser valiosas para el análisis e interpretación de los datos."
   ]
  },
  {
   "cell_type": "markdown",
   "metadata": {},
   "source": [
    "## Solución\n",
    "\n",
    "#### Constante k\n",
    "\\begin{equation}\n",
    "k\\int_{20}^{30}\\int_{20}^{30}(x^2+y^2)dx\\text{ }dy=\n",
    "k\\int_{20}^{30}(\\frac{x^3}{3}+xy^2)\\bigg\\rvert_{20}^{30}dy=k\\int_{20}^{30}(9000+30y^2-\\frac{8000}{3}-20y^2) dy=\n",
    "\\end{equation}\n",
    "\\begin{equation}\n",
    "k\\int_{20}^{30}(\\frac{19000}{3}+10y^2) dy=k(\\frac{19000y}{3}+\\frac{10y^3}{3})\\bigg\\rvert_{20}^{30}=k(\\frac{190000}{3}+\\frac{190000}{3})=k\\frac{380000}{3}=1\n",
    "\\end{equation}\n",
    "\\begin{equation}\n",
    "\\implies k=\\frac{3}{380000}\n",
    "\\end{equation}\n",
    "\n",
    "Que la diferencia de presión entre las ruedas sea menor a 2. $|x-y|\\le 2$\n",
    "#### $y\\le x\\le y+2$\n",
    "$$\\frac{3}{380000}\\int_{20}^{28}\\int_{y}^{y+2}(x^2+y^2)dxdy=\\frac{3}{380000}\\int_{20}^{28}(\\frac{x^3}{3}+xy^2)\\bigg\\rvert_{y}^{y+2}dy=\\frac{3}{380000}\\int_{20}^{28}(\\frac{(y+2)^3}{3}+(y+2)y^2-\\frac{y^3}{3}-y^3)dy=$$\n",
    "$$\\frac{3}{380000}\\int_{20}^{28}(\\frac{(y^3+6y^2+12y+8)}{3}+(y^3+2y^2)-\\frac{y^3}{3}-y^3)dy=$$\n",
    "$$\\frac{3}{380000}\\int_{20}^{28}4y^2+4y+\\frac{8}{3}dy=\\frac{3}{380000}(\\frac{4y^3}{3}+2y^2+\\frac{8y}{3})\\bigg\\rvert_{20}^{28}=\\frac{3.19392}{380000}=0.1531$$\n",
    "\n",
    "#### $y-2\\le x\\le y$\n",
    "$$\\frac{3}{380000}\\int_{22}^{30}\\int_{y-2}^{y}(x^2+y^2)dxdy=\\frac{3}{380000}\\int_{22}^{30}(\\frac{x^3}{3}+xy^2)\\bigg\\rvert_{y-2}^{y}dy=\\frac{3}{380000}\\int_{22}^{30}(\\frac{y^3}{3}+y^3-\\frac{(y-2)^3}{3}-(y-2)y^2)dy=$$\n",
    "$$\\frac{3}{380000}\\int_{22}^{30}(\\frac{y^3}{3}+y^3-\\frac{y^3-6y^2+12y-8}{3}-y^3+2y^2)dy=$$\n",
    "$$\\frac{3}{380000}\\int_{22}^{30}(-\\frac{-12y^2+12y-8}{3})dy=\\frac{3}{380000}\\int_{22}^{30}(4y^2-4y+\\frac{8}{3})dy$$\n",
    "$$\\frac{3}{380000}(\\frac{4y^3}{3}-2y^2+\\frac{8y}{3})\\bigg\\rvert_{22}^{30}=\\frac{3.20992}{380000}=0.1657$$\n"
   ]
  },
  {
   "cell_type": "markdown",
   "metadata": {},
   "source": [
    "$$(y-2)^3=(y-2)^2(y-2)=(y^2-4y+4)(y-2)=$$\n",
    "$$y^3-2y^2-4y^2+8y+4y-8=y^3-6y^2+12y-8$$"
   ]
  },
  {
   "cell_type": "code",
   "execution_count": 17,
   "metadata": {},
   "outputs": [
    {
     "name": "stdout",
     "output_type": "stream",
     "text": [
      "4650.666666666667\n",
      "19392.0\n",
      "0.15309473684210526\n",
      "20992.0\n",
      "0.1657263157894737\n"
     ]
    }
   ],
   "source": [
    "print((28**3-20**3)/3)\n",
    "print((28**3-20**3)*4/3+2*(28**2-20**2)+8*(28-20)/3)\n",
    "print(((28**3-20**3)*4/3+2*(28**2-20**2)+8*(28-20)/3)*3/380000)\n",
    "\n",
    "print((30**3-22**3)*4/3-2*(30**2-22**2)+8*(30-22)/3)\n",
    "print((((30**3-22**3)*4/3-2*(30**2-22**2)+8*(30-22)/3))*3/380000)"
   ]
  },
  {
   "cell_type": "code",
   "execution_count": null,
   "metadata": {},
   "outputs": [],
   "source": []
  },
  {
   "cell_type": "markdown",
   "metadata": {},
   "source": [
    "## Distribucion Normal\n",
    "$$f(x)=\\frac{1}{\\sigma\\sqrt{2\\pi}}e^{\\frac{-(x-\\mu)^2}{2\\sigma^2}}$$\n",
    "\n",
    "## Función de Probabilidad Acumulada\n",
    "$$F(x)=\\frac{1}{\\sigma\\sqrt{2\\pi}}\\int_{-\\infty}^{x}e^{\\frac{-(x-\\mu)^2}{2\\sigma^2}}dx$$\n",
    "\n",
    "### Cambio de variable\n",
    "$$z=\\frac{x-\\mu}{\\sqrt{2}\\sigma}$$\n",
    "$$dz=\\frac{dx}{\\sqrt{2}\\sigma}$$\n",
    "$$dz\\sqrt{2}\\sigma=dx$$\n",
    "$$F(x)=\\frac{1}{\\sigma\\sqrt{2\\pi}}\\int_{-\\infty}^{x}e^{\\frac{-(x-\\mu)^2}{2\\sigma^2}}dx$$\n",
    "$$F(x)=\\frac{\\sqrt{2}\\sigma}{\\sigma\\sqrt{2\\pi}}\\int_{-\\infty}^{\\frac{x-\\mu}{\\sigma\\sqrt{2}}}e^{-z^2}dz=\\frac{1}{\\sqrt{\\pi}}\\int_{-\\infty}^{\\frac{x-\\mu}{\\sigma\\sqrt{2}}}e^{-z^2}dz=\\frac{1}{\\sqrt{\\pi}}(\\int_{-\\infty}^{0}e^{-z^2}dz+\\int_{0}^{\\frac{x-\\mu}{\\sigma\\sqrt{2}}}e^{-z^2}dz)$$\n",
    "\n",
    "$$F(x)=\\frac{1}{\\sqrt{\\pi}}(\\frac{\\sqrt{\\pi}}{2}+\\int_{0}^{\\frac{x-\\mu}{\\sigma\\sqrt{2}}}e^{-z^2}dz)$$\n",
    "$$F(x)=\\frac{1}{\\sqrt{\\pi}}(\\frac{\\sqrt{\\pi}}{2}+\\frac{\\sqrt{\\pi}}{2}Erf(\\frac{x-\\mu}{\\sigma\\sqrt{2}}))$$\n",
    "$$F(x)=\\frac{1}{2}(1+Erf(\\frac{x-\\mu}{\\sigma\\sqrt{2}}))$$\n",
    "## Función error\n",
    "$$Erf(x)=\\frac{2}{\\sqrt{\\pi}}\\int_{0}^{x}e^{-t^2}dt$$"
   ]
  },
  {
   "cell_type": "markdown",
   "metadata": {},
   "source": [
    "## Funciones de Densidad de Probabilidad Bidimensional\n",
    "Una cafetería ofrece dos tipos de servicios de atención al cliente:\n",
    "uno a través de una ventanilla para autos (entrega de bebidas para\n",
    "llevar) y otro mediante un mostrador tradicional en el interior del\n",
    "local. En este contexto, se desea comprender cómo se distribuye el\n",
    "tiempo de utilización de cada tipo de servicio a lo largo del día. Para\n",
    "ello, se define la variable X como la proporción de tiempo en que la\n",
    "ventanilla para autos está en uso, es decir, al menos un cliente está\n",
    "siendo atendido o esperando ser atendido. Asimismo, la variable Y\n",
    "se define como la proporción de tiempo en que el mostrador\n",
    "tradicional está en uso. La cafetería opera durante todo el día y nos\n",
    "interesa comprender cómo se distribuye el tiempo entre estos dos\n",
    "tipos de atención, especialmente durante el horario pico, que va de\n",
    "20 a 21 horas en el verano.\n",
    "Un análisis realizado determinó la función de densidad de probabilidad conjunta f(x, y),\n",
    "lo cual implicó llevar a cabo un estudio empírico sobre el comportamiento de las variables\n",
    "aleatorias X y Y. Para ello, se recopilaron datos sobre el uso de la ventanilla destinada a la\n",
    "atención de pedidos realizados desde el automóvil y el mostrador tradicional durante el horario\n",
    "pico mencionado. Estos datos permitieron analizar la relación entre el tiempo de uso de cada\n",
    "servicio y determinar una función que modelara esta relación. Se emplearon técnicas estadísticas,\n",
    "como el método de mínimos cuadrados, para ajustar una función que se adaptara adecuadamente\n",
    "a los datos observados.\n",
    "En este caso específico, la función de densidad de probabilidad conjunta resultó ser\n",
    "la siguiente: $f(x, y) =\\frac{6}{5}(x+y^2)$, con 0 ≤ x ≤ 1 y 0 ≤ y ≤ 1. Dado que el análisis se\n",
    "realizó en el horario de 20 a 21 horas, matemáticamente se considera el intervalo [0,1].\n",
    "¿Cuál es la probabilidad de que ninguna de las ventanillas, ya sea la de atención para\n",
    "automovilistas o el mostrador, esté ocupada por más de 15 minutos durante la hora pico de\n",
    "estudio? ¿y que estén ocupada a lo sumo 5 minutos? Fundamenta tu respuesta."
   ]
  },
  {
   "cell_type": "markdown",
   "metadata": {},
   "source": [
    "## Solución\n",
    "\n",
    "Se verifica que la función es una función de densidad de probabilidad.\n",
    "### Positividad\n",
    "$f(x, y) \\ge 0$ para $0 \\le{x}\\le{1}$ y $0 \\le{y}\\le{1}$\n",
    "\n",
    "### Área bajo la curva = 1\n",
    "$$\\int_0^1\\int_0^1 f(x, y)dx dy=\\int_0^1\\int_0^1 \\frac{6}{5}(x+y^2) dx dy$$\n",
    "$$\\frac{6}{5}\\int_0^1\\int_0^1 (x+y^2) dx dy=\\frac{6}{5}\\int_0^1 (\\frac{x^2}{2}+xy^2)\\bigg\\rvert_{0}^{1}dy$$\n",
    "$$\\frac{6}{5}\\int_0^1 (\\frac{1}{2}+y^2)dy=\\frac{6}{5}(\\frac{y}{2}+\\frac{y^3}{3})\\bigg\\rvert_{0}^{1}=\\frac{6}{5}(\\frac{1}{2}+\\frac{1}{3})=\\frac{6}{5}(\\frac{3}{6}+\\frac{2}{6})=1$$\n",
    "\n",
    "### $P(x\\le{15},y\\le{15})$\n",
    "$$\\frac{6}{5}\\int_0^{0.25}\\int_0^{0.25} (x+y^2) dx dy=$$\n",
    "$$\\frac{6}{5}\\int_0^{0.25} (\\frac{x^2}{2}+xy^2)\\bigg\\rvert_{0}^{0.25}dy=\\frac{6}{5}\\int_0^{0.25} (\\frac{1}{32}+\\frac{y^2}{4})dy=$$\n",
    "$$\\frac{6}{5} (\\frac{y}{32}+\\frac{y^3}{12})\\bigg\\rvert_{0}^{0.25}=\\frac{6}{5} (\\frac{1}{128}+\\frac{1}{768})=0.01094$$"
   ]
  }
 ],
 "metadata": {
  "interpreter": {
   "hash": "2c6a23e5ca86e48af99ddb8d87a6f8a76f480f6605a8646019b2b2d50a997dfd"
  },
  "kernelspec": {
   "display_name": "Python 3.9.13 ('base')",
   "language": "python",
   "name": "python3"
  },
  "language_info": {
   "codemirror_mode": {
    "name": "ipython",
    "version": 3
   },
   "file_extension": ".py",
   "mimetype": "text/x-python",
   "name": "python",
   "nbconvert_exporter": "python",
   "pygments_lexer": "ipython3",
   "version": "3.9.13"
  },
  "orig_nbformat": 4
 },
 "nbformat": 4,
 "nbformat_minor": 2
}
