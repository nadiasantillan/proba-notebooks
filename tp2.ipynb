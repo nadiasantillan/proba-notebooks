{
 "cells": [
  {
   "cell_type": "markdown",
   "metadata": {},
   "source": [
    "## Problema 1. \n",
    "Una empresa dedicada a la venta de automóviles cuenta con varias sucursales en diferentes ciudades. El representante sindical realizó una propuesta referida a un paquete de medidas que presentaría a los directivos de la empresa (demandas salariales y de prestaciones que debería realizar la empresa). Como apoyo a su propuesta, efectuó un sondeo aleatorio en los grupos más grandes de trabajadores de la planta (administrativos y vendedores). Entrevistó a 30 de cada grupo con los siguientes resultados:\n",
    "|Opinión|Administrativos|Vendedores|\n",
    "|-------|--------------:|---------:|\n",
    "|Apoyo fuerte|9|10|\n",
    "|Apoyo moderado|11|3|\n",
    "|Indecisión|2|2|\n",
    "|Oposición moderada|4|8|\n",
    "|Oposición fuerte|4|7|\n",
    "||30|30|\n",
    "\n",
    "a. ¿Cuál es la probabilidad de que un Administrativo, seleccionado al azar del grupo sondeado, otorgue apoyo al paquete de medidas propuestas desde el sindicato? Fundamenta la respuesta.\n",
    "\n",
    "b. ¿Cuál es la probabilidad de que un Vendedor, seleccionado al azar del grupo sondeado, esté indeciso ante el paquete de medidas propuestas desde el sindicato? Fundamenta la respuesta.\n",
    "\n",
    "c. ¿Cuál es la probabilidad de que un Empleado, seleccionado al azar del grupo sondeado, exprese oposición al paquete de medidas propuestas desde el sindicato? Fundamenta la respuesta."
   ]
  },
  {
   "cell_type": "markdown",
   "metadata": {},
   "source": [
    "## Solución\n",
    "a. Dado que los grupos de personas que apoyan fuerte o moderadamente las medidas son mutuamente excluyentes, las cantidades se puede sumar para obtener el total de personas que apoyan en alguna forma a las medidas.\n",
    "Los administrativos que brindan apoyo fuerte son 9 y los que lo hacen moderadamente son 11, resultando en 20 administrativos que brindan apoyo.\n",
    "\n",
    "La probabilidad de apoyo se determina utilizando el concepto de probabilidad condicional.\n",
    "$$P(Apoyo|Administrativo)=\\frac{P(Apoyo\\cap{Administrativo})}{P(Administrativo)}=\\frac{\\frac{9+11}{60}}{\\frac{30}{60}}=\\frac{20}{30}=\\frac{2}{3}$$\n"
   ]
  },
  {
   "cell_type": "code",
   "execution_count": 3,
   "metadata": {},
   "outputs": [
    {
     "name": "stdout",
     "output_type": "stream",
     "text": [
      "p 0.6666666666666666\n"
     ]
    }
   ],
   "source": [
    "p = (9 + 11) / 30\n",
    "print(\"p\", p)"
   ]
  },
  {
   "cell_type": "markdown",
   "metadata": {},
   "source": [
    "b. En forma similar al punto a. la probabilidad se puede calcular dividiendo la cantidad de vendedores indecisos sobre el total de vendedores.\n",
    "$$P(Indeciso|Vendedor)=\\frac{P(Indeciso\\cap{Vendedor})}{P(Vendedor)}=\\frac{2}{30}=\\frac{1}{15}$$"
   ]
  },
  {
   "cell_type": "code",
   "execution_count": 4,
   "metadata": {},
   "outputs": [
    {
     "name": "stdout",
     "output_type": "stream",
     "text": [
      "p 0.06666666666666667\n"
     ]
    }
   ],
   "source": [
    "print(\"p\", 2/30)"
   ]
  },
  {
   "cell_type": "markdown",
   "metadata": {},
   "source": [
    "c. La probabilidad se puede calcular dividiendo la cantidad de empleados que ofrecen algún tipo de opocisión sobre el total de empleados.\n",
    "$$P(Oposición)=\\frac{4+4+8+7}{60}=\\frac{23}{60}$$"
   ]
  },
  {
   "cell_type": "code",
   "execution_count": 5,
   "metadata": {},
   "outputs": [
    {
     "name": "stdout",
     "output_type": "stream",
     "text": [
      "p 0.38333333333333336\n"
     ]
    }
   ],
   "source": [
    "print(\"p\", 23/60)"
   ]
  },
  {
   "cell_type": "markdown",
   "metadata": {},
   "source": [
    "## Problema 2. \n",
    "Analiza las siguientes estimaciones de probabilidad y realiza una clasificación en clásica,\n",
    "frecuencial o subjetiva, fundamentando la respuesta.\n",
    "\n",
    "a) La probabilidad de que renuncie el gerente de la empresa es 0.85\n",
    "\n",
    "b) La probabilidad de que viaje a Europa este año es del 10%.\n",
    "\n",
    "c) La probabilidad de sacar dos 6 al lanzar dos dados es 1/36.\n",
    "\n",
    "d) La probabilidad de vender un automóvil usado, con no más de 100 mil kilómetros, en buen estado, y durante los tres primeros meses de consignación es del 0.47."
   ]
  },
  {
   "cell_type": "markdown",
   "metadata": {},
   "source": [
    "## Solución\n",
    "\n",
    "|#|Enunciado|Clasificación|\n",
    "|-|---------|-------------|\n",
    "|a|La probabilidad de que renuncie el gerente de la empresa es 0.85|Subjetiva|\n",
    "|b|La probabilidad de que viaje a Europa este año es del 10%.|Subjetiva|\n",
    "|c|La probabilidad de sacar dos 6 al lanzar dos dados es 1/36.|Clásica|\n",
    "|d|La probabilidad de vender un automóvil usado, con no más de 100 mil kilómetros, en buen estado, y durante los tres primeros meses de consignación es del 0.47.|Frecuencial|\n",
    "\n",
    "En los dos primeros casos, alguien asigna una probabilidad de ocurrencia a los enunciados basado en sus creencias.\n",
    "\n",
    "En el item c. se calcula la probabilidad dividiendo los eventos favorables sobre los casos posibles.\n",
    "\n",
    "En el item d. se calcula la probabilidad teniendo en cuenta ocurrencias del mismo hecho en el pasado."
   ]
  }
 ],
 "metadata": {
  "interpreter": {
   "hash": "2c6a23e5ca86e48af99ddb8d87a6f8a76f480f6605a8646019b2b2d50a997dfd"
  },
  "kernelspec": {
   "display_name": "Python 3.9.13 ('base')",
   "language": "python",
   "name": "python3"
  },
  "language_info": {
   "codemirror_mode": {
    "name": "ipython",
    "version": 3
   },
   "file_extension": ".py",
   "mimetype": "text/x-python",
   "name": "python",
   "nbconvert_exporter": "python",
   "pygments_lexer": "ipython3",
   "version": "3.9.13"
  },
  "orig_nbformat": 4
 },
 "nbformat": 4,
 "nbformat_minor": 2
}
