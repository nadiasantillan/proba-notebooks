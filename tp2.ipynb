{
 "cells": [
  {
   "cell_type": "markdown",
   "metadata": {},
   "source": [
    "## Problema 1. \n",
    "Una empresa dedicada a la venta de automóviles cuenta con varias sucursales en diferentes ciudades. El representante sindical realizó una propuesta referida a un paquete de medidas que presentaría a los directivos de la empresa (demandas salariales y de prestaciones que debería realizar la empresa). Como apoyo a su propuesta, efectuó un sondeo aleatorio en los grupos más grandes de trabajadores de la planta (administrativos y vendedores). Entrevistó a 30 de cada grupo con los siguientes resultados:\n",
    "|Opinión|Administrativos|Vendedores|\n",
    "|-------|--------------:|---------:|\n",
    "|Apoyo fuerte|9|10|\n",
    "|Apoyo moderado|11|3|\n",
    "|Indecisión|2|2|\n",
    "|Oposición moderada|4|8|\n",
    "|Oposición fuerte|4|7|\n",
    "||30|30|\n",
    "\n",
    "a. ¿Cuál es la probabilidad de que un Administrativo, seleccionado al azar del grupo sondeado, otorgue apoyo al paquete de medidas propuestas desde el sindicato? Fundamenta la respuesta.\n",
    "\n",
    "b. ¿Cuál es la probabilidad de que un Vendedor, seleccionado al azar del grupo sondeado, esté indeciso ante el paquete de medidas propuestas desde el sindicato? Fundamenta la respuesta.\n",
    "\n",
    "c. ¿Cuál es la probabilidad de que un Empleado, seleccionado al azar del grupo sondeado, exprese oposición al paquete de medidas propuestas desde el sindicato? Fundamenta la respuesta."
   ]
  },
  {
   "cell_type": "markdown",
   "metadata": {},
   "source": [
    "## Solución\n",
    "a. Dado que los grupos de personas que apoyan fuerte o moderadamente las medidas son mutuamente excluyentes, las cantidades se puede sumar para obtener el total de personas que apoyan en alguna forma a las medidas.\n",
    "Los administrativos que brindan apoyo fuerte son 9 y los que lo hacen moderadamente son 11, resultando en 20 administrativos que brindan apoyo.\n",
    "\n",
    "La probabilidad de apoyo se determina dividiendo los casos favorables sobre los posibles que son 30.\n",
    "$$p=\\frac{9+11}{60}=\\frac{20}{30}=\\frac{2}{3}$$"
   ]
  },
  {
   "cell_type": "code",
   "execution_count": 3,
   "metadata": {},
   "outputs": [
    {
     "name": "stdout",
     "output_type": "stream",
     "text": [
      "p 0.6666666666666666\n"
     ]
    }
   ],
   "source": [
    "p = (9 + 11) / 30\n",
    "print(\"p\", p)"
   ]
  },
  {
   "cell_type": "markdown",
   "metadata": {},
   "source": [
    "b. En forma similar al punta a. la probabilidad se puede calcular dividiendo la cantidad de vendedores indecisos sobre el total de vendedores.\n",
    "$$p=\\frac{2}{30}=\\frac{1}{15}$$"
   ]
  },
  {
   "cell_type": "code",
   "execution_count": 4,
   "metadata": {},
   "outputs": [
    {
     "name": "stdout",
     "output_type": "stream",
     "text": [
      "p 0.06666666666666667\n"
     ]
    }
   ],
   "source": [
    "print(\"p\", 2/30)"
   ]
  }
 ],
 "metadata": {
  "interpreter": {
   "hash": "2c6a23e5ca86e48af99ddb8d87a6f8a76f480f6605a8646019b2b2d50a997dfd"
  },
  "kernelspec": {
   "display_name": "Python 3.9.13 ('base')",
   "language": "python",
   "name": "python3"
  },
  "language_info": {
   "codemirror_mode": {
    "name": "ipython",
    "version": 3
   },
   "file_extension": ".py",
   "mimetype": "text/x-python",
   "name": "python",
   "nbconvert_exporter": "python",
   "pygments_lexer": "ipython3",
   "version": "3.9.13"
  },
  "orig_nbformat": 4
 },
 "nbformat": 4,
 "nbformat_minor": 2
}
