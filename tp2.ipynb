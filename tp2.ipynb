{
 "cells": [
  {
   "cell_type": "markdown",
   "metadata": {},
   "source": [
    "## Problema 1. \n",
    "Una empresa dedicada a la venta de automóviles cuenta con varias sucursales en diferentes ciudades. El representante sindical realizó una propuesta referida a un paquete de medidas que presentaría a los directivos de la empresa (demandas salariales y de prestaciones que debería realizar la empresa). Como apoyo a su propuesta, efectuó un sondeo aleatorio en los grupos más grandes de trabajadores de la planta (administrativos y vendedores). Entrevistó a 30 de cada grupo con los siguientes resultados:\n",
    "|Opinión|Administrativos|Vendedores|\n",
    "|-------|--------------:|---------:|\n",
    "|Apoyo fuerte|9|10|\n",
    "|Apoyo moderado|11|3|\n",
    "|Indecisión|2|2|\n",
    "|Oposición moderada|4|8|\n",
    "|Oposición fuerte|4|7|\n",
    "||30|30|\n",
    "\n",
    "a. ¿Cuál es la probabilidad de que un Administrativo, seleccionado al azar del grupo sondeado, otorgue apoyo al paquete de medidas propuestas desde el sindicato? Fundamenta la respuesta.\n",
    "\n",
    "b. ¿Cuál es la probabilidad de que un Vendedor, seleccionado al azar del grupo sondeado, esté indeciso ante el paquete de medidas propuestas desde el sindicato? Fundamenta la respuesta.\n",
    "\n",
    "c. ¿Cuál es la probabilidad de que un Empleado, seleccionado al azar del grupo sondeado, exprese oposición al paquete de medidas propuestas desde el sindicato? Fundamenta la respuesta."
   ]
  },
  {
   "cell_type": "markdown",
   "metadata": {},
   "source": [
    "## Solución\n",
    "a. Dado que los grupos de personas que apoyan fuerte o moderadamente las medidas son mutuamente excluyentes, las cantidades se puede sumar para obtener el total de personas que apoyan en alguna forma a las medidas.\n",
    "Los administrativos que brindan apoyo fuerte son 9 y los que lo hacen moderadamente son 11, resultando en 20 administrativos que brindan apoyo.\n",
    "\n",
    "La probabilidad de apoyo se determina utilizando el concepto de probabilidad condicional.\n",
    "$$P(Apoyo|Administrativo)=\\frac{P(Apoyo\\cap{Administrativo})}{P(Administrativo)}=\\frac{\\frac{9+11}{60}}{\\frac{30}{60}}=\\frac{20}{30}=\\frac{2}{3}$$\n"
   ]
  },
  {
   "cell_type": "code",
   "execution_count": 3,
   "metadata": {},
   "outputs": [
    {
     "name": "stdout",
     "output_type": "stream",
     "text": [
      "p 0.6666666666666666\n"
     ]
    }
   ],
   "source": [
    "p = (9 + 11) / 30\n",
    "print(\"p\", p)"
   ]
  },
  {
   "cell_type": "markdown",
   "metadata": {},
   "source": [
    "b. En forma similar al punto a. la probabilidad se puede calcular dividiendo la cantidad de vendedores indecisos sobre el total de vendedores.\n",
    "$$P(Indeciso|Vendedor)=\\frac{P(Indeciso\\cap{Vendedor})}{P(Vendedor)}=\\frac{2}{30}=\\frac{1}{15}$$"
   ]
  },
  {
   "cell_type": "code",
   "execution_count": 4,
   "metadata": {},
   "outputs": [
    {
     "name": "stdout",
     "output_type": "stream",
     "text": [
      "p 0.06666666666666667\n"
     ]
    }
   ],
   "source": [
    "print(\"p\", 2/30)"
   ]
  },
  {
   "cell_type": "markdown",
   "metadata": {},
   "source": [
    "c. La probabilidad se puede calcular dividiendo la cantidad de empleados que ofrecen algún tipo de opocisión sobre el total de empleados.\n",
    "$$P(Oposición)=\\frac{4+4+8+7}{60}=\\frac{23}{60}$$"
   ]
  },
  {
   "cell_type": "code",
   "execution_count": 5,
   "metadata": {},
   "outputs": [
    {
     "name": "stdout",
     "output_type": "stream",
     "text": [
      "p 0.38333333333333336\n"
     ]
    }
   ],
   "source": [
    "print(\"p\", 23/60)"
   ]
  },
  {
   "cell_type": "markdown",
   "metadata": {},
   "source": [
    "## Problema 2. \n",
    "Analiza las siguientes estimaciones de probabilidad y realiza una clasificación en clásica,\n",
    "frecuencial o subjetiva, fundamentando la respuesta.\n",
    "\n",
    "a) La probabilidad de que renuncie el gerente de la empresa es 0.85\n",
    "\n",
    "b) La probabilidad de que viaje a Europa este año es del 10%.\n",
    "\n",
    "c) La probabilidad de sacar dos 6 al lanzar dos dados es 1/36.\n",
    "\n",
    "d) La probabilidad de vender un automóvil usado, con no más de 100 mil kilómetros, en buen estado, y durante los tres primeros meses de consignación es del 0.47."
   ]
  },
  {
   "cell_type": "markdown",
   "metadata": {},
   "source": [
    "## Solución\n",
    "\n",
    "|#|Enunciado|Clasificación|\n",
    "|-|---------|-------------|\n",
    "|a|La probabilidad de que renuncie el gerente de la empresa es 0.85|Subjetiva|\n",
    "|b|La probabilidad de que viaje a Europa este año es del 10%.|Subjetiva|\n",
    "|c|La probabilidad de sacar dos 6 al lanzar dos dados es 1/36.|Clásica|\n",
    "|d|La probabilidad de vender un automóvil usado, con no más de 100 mil kilómetros, en buen estado, y durante los tres primeros meses de consignación es del 0.47.|Frecuencial|\n",
    "\n",
    "En los dos primeros casos, alguien asigna una probabilidad de ocurrencia a los enunciados basado en sus creencias.\n",
    "\n",
    "En el item c. se calcula la probabilidad dividiendo los eventos favorables sobre los casos posibles.\n",
    "\n",
    "En el item d. se calcula la probabilidad teniendo en cuenta ocurrencias del mismo hecho en el pasado."
   ]
  },
  {
   "cell_type": "markdown",
   "metadata": {},
   "source": [
    "## Problema 3\n",
    "A continuación, se presenta la distribución de frecuencias de las comisiones anuales por\n",
    "ventas tomadas de un estudio de 300 vendedores promedio de automóviles.\n",
    "\n",
    "|Comisión anual (dólares)|Frecuencia|\n",
    "|:-----------------------|---------:|\n",
    "|0 – 4999|15|\n",
    "|5000 – 9999|25|\n",
    "|10000 – 14999|35|\n",
    "|15000 – 19999|125|\n",
    "|20000 – 24999|70|\n",
    "|25000 – +|30|\n",
    "\n",
    "Con base en esta información, realiza un informe con fundamentos matemáticos, donde incluyas representaciones gráficas adecuadas, como así también, el cálculo de la probabilidad de que un vendedor promedio obtenga una comisión de: ¿Entre 5000 y 10000 dólares? ¿Menos de 15000 dólares? ¿Más de 20000 dólares? ¿Entre 15000 y 20000 dólares?"
   ]
  },
  {
   "cell_type": "markdown",
   "metadata": {},
   "source": [
    "## Solución\n",
    "Se calculan las frecuencias relativas y se realiza un gráfico de barras."
   ]
  },
  {
   "cell_type": "code",
   "execution_count": 21,
   "metadata": {},
   "outputs": [],
   "source": [
    "etiquetas = [\"0 – 4999\", \"5000 – 9999\", \"10000 – 14999\", \"15000 – 19999\", \"20000 – 24999\", \"25000 – +\"]\n",
    "frecuencias = [15, 25, 35, 125, 70, 30]\n",
    "\n",
    "total = sum(frecuencias)\n",
    "\n",
    "frecuencias_relativas = [freq/total for freq in frecuencias]"
   ]
  },
  {
   "cell_type": "code",
   "execution_count": 22,
   "metadata": {},
   "outputs": [
    {
     "data": {
      "text/plain": [
       "([<matplotlib.axis.XTick at 0x7f27de56c610>,\n",
       "  <matplotlib.axis.XTick at 0x7f27de56c5e0>,\n",
       "  <matplotlib.axis.XTick at 0x7f27de565be0>,\n",
       "  <matplotlib.axis.XTick at 0x7f27de52e940>,\n",
       "  <matplotlib.axis.XTick at 0x7f27de5390d0>,\n",
       "  <matplotlib.axis.XTick at 0x7f27de539820>],\n",
       " [Text(0, 0, ''),\n",
       "  Text(0, 0, ''),\n",
       "  Text(0, 0, ''),\n",
       "  Text(0, 0, ''),\n",
       "  Text(0, 0, ''),\n",
       "  Text(0, 0, '')])"
      ]
     },
     "execution_count": 22,
     "metadata": {},
     "output_type": "execute_result"
    },
    {
     "data": {
      "image/png": "[encoded data removed]",
      "text/plain": [
       "<Figure size 640x480 with 1 Axes>"
      ]
     },
     "metadata": {},
     "output_type": "display_data"
    }
   ],
   "source": [
    "import matplotlib.pyplot as plt\n",
    "\n",
    "panel = plt.figure()\n",
    "grafico = panel.add_subplot()\n",
    "\n",
    "grafico.bar(etiquetas, frecuencias_relativas, width=.9)\n",
    "for i, rect in enumerate(grafico.patches):\n",
    "    grafico.text(\n",
    "        rect.get_x() + rect.get_width() / 2, rect.get_height(), \"%.4f\"%frecuencias_relativas[i], ha=\"center\", va=\"bottom\"\n",
    "    )\n",
    "grafico.set_xlabel(\"Precios\")\n",
    "grafico.set_ylabel(\"Frecuencia relativa\")\n",
    "plt.xticks(etiquetas, rotation=90)"
   ]
  },
  {
   "cell_type": "markdown",
   "metadata": {},
   "source": [
    "Observando el gráfico se puede ver:\n",
    "\n",
    "La probabilidad de que un vendedor promedio obtenga una comisión de entre 5000 y 10000 dólares es 0.0833.\n",
    "\n",
    "La probabilidad de que un vendedor promedio obtenga una comisión de menos de 15000 es 0.25.\n",
    "\n",
    "La probabilidad de que un vendedor promedio obtenga una comisión de más de 20000 es 0.33.\n",
    "\n",
    "La probabilidad de que un vendedor promedio obtenga una comisión de entre 15000 y 20000 dólares es 0.4167."
   ]
  },
  {
   "cell_type": "code",
   "execution_count": 27,
   "metadata": {},
   "outputs": [
    {
     "name": "stdout",
     "output_type": "stream",
     "text": [
      "Menos de 15000 0.25\n",
      "Más de 20000 0.33333333333333337\n"
     ]
    }
   ],
   "source": [
    "print(\"Menos de 15000\", sum(frecuencias_relativas[:3]))\n",
    "print(\"Más de 20000\", sum(frecuencias_relativas[-2:]))"
   ]
  },
  {
   "cell_type": "markdown",
   "metadata": {},
   "source": [
    "## Problema 4\n",
    "\n",
    "Realiza una simulación del lanzamiento de 4 monedas que te permita hacer el recuento de la cantidad de caras que se obtienen.\n",
    "\n",
    "a) ¿Son equiprobables los distintos resultados? Fundamenta tu respuesta.\n",
    "\n",
    "b) Si una persona tiene 4 hijos, ¿es más probable que tenga dos de cada sexo, o 3 del mismo sexo y solo uno del otro? Explica tu respuesta."
   ]
  },
  {
   "cell_type": "markdown",
   "metadata": {},
   "source": [
    "## Solución\n",
    "\n",
    "a) Se realizan ensayos del lanzamiento de 4 monedas.\n",
    "\n",
    "En primer lugar se obtienen todas los posibles valores repitiendo el producto cartesiano de {Cara, Ceca} 4 veces. Contando el número de caras en cada producto posible se obtiene la probabilidad teórica."
   ]
  },
  {
   "cell_type": "code",
   "execution_count": 38,
   "metadata": {},
   "outputs": [
    {
     "name": "stdout",
     "output_type": "stream",
     "text": [
      "{4: 1, 3: 4, 2: 6, 1: 4, 0: 1}\n",
      "{4: 0.0625, 3: 0.25, 2: 0.375, 1: 0.25, 0: 0.0625}\n"
     ]
    }
   ],
   "source": [
    "from itertools import product\n",
    "s = 4\n",
    "opciones = [\"C\", \"S\"]\n",
    "\n",
    "res = [\"\".join(p) for p in product(opciones, repeat=4)]\n",
    "\n",
    "freqs = {}\n",
    "for r in res:\n",
    "    caras = sum(1 for c in r if c == \"C\")\n",
    "    freqs[caras] = freqs.get(caras, 0) + 1\n",
    "print(freqs)\n",
    "print({k: v/len(res) for k, v in freqs.items()})"
   ]
  },
  {
   "cell_type": "markdown",
   "metadata": {},
   "source": [
    "Luego se repite el experimento e veces y se obtinen probabilidades similares a las teóricas a medida que se va incrementando el número de experimentos."
   ]
  },
  {
   "cell_type": "code",
   "execution_count": 42,
   "metadata": {},
   "outputs": [
    {
     "name": "stdout",
     "output_type": "stream",
     "text": [
      "{3: 249871, 0: 62618, 2: 374144, 1: 250860, 4: 62507}\n",
      "{3: 0.249871, 0: 0.062618, 2: 0.374144, 1: 0.25086, 4: 0.062507}\n"
     ]
    }
   ],
   "source": [
    "from random import choice\n",
    "e = 1000000\n",
    "\n",
    "res = []\n",
    "for i in range(e):\n",
    "    r = \"\"\n",
    "    for j in range(s):\n",
    "        r += choice(opciones)\n",
    "    res.append(r)\n",
    "\n",
    "freqs = {}\n",
    "for r in res:\n",
    "    caras = sum(1 for c in r if c == \"C\")\n",
    "    freqs[caras] = freqs.get(caras, 0) + 1\n",
    "print(freqs)\n",
    "print({k: v/e for k, v in freqs.items()})"
   ]
  },
  {
   "cell_type": "markdown",
   "metadata": {},
   "source": [
    "\n",
    "\n"
   ]
  },
  {
   "cell_type": "markdown",
   "metadata": {},
   "source": [
    "b) Se realizan el mismo razonamiento para verones y mujeres.\n"
   ]
  },
  {
   "cell_type": "code",
   "execution_count": 45,
   "metadata": {},
   "outputs": [
    {
     "name": "stdout",
     "output_type": "stream",
     "text": [
      "{0: 0.0625, 1: 0.25, 2: 0.375, 3: 0.25, 4: 0.0625}\n"
     ]
    }
   ],
   "source": [
    "from itertools import product\n",
    "s = 4\n",
    "opciones = [\"M\", \"V\"]\n",
    "res = [\"\".join(p) for p in product(opciones, repeat=4)]\n",
    "\n",
    "freqs = {}\n",
    "for r in res:\n",
    "    caras = sum(1 for c in r if c == \"V\")\n",
    "    freqs[caras] = freqs.get(caras, 0) + 1\n",
    "\n",
    "print({k: v/len(res) for k, v in freqs.items()})"
   ]
  },
  {
   "cell_type": "markdown",
   "metadata": {},
   "source": [
    "La probabilidades son:\n",
    "|Número de varones|p|\n",
    "|----------------:|-:|\n",
    "|0|0.0625|\n",
    "|1|0.25|\n",
    "|2|0.375|\n",
    "|3|0.25|\n",
    "|4|0.0625|"
   ]
  },
  {
   "cell_type": "markdown",
   "metadata": {},
   "source": [
    "## Problema 5\n",
    "Realiza una simulación que te permita determinar la probabilidad frecuencial de obtener un seis, al arrojar un dado no cargado. Asimismo, efectúa una gráfica apropiada que refleje la probabilidad establecida y su distribución de probabilidad, como así también, un informe de la experiencia."
   ]
  },
  {
   "cell_type": "markdown",
   "metadata": {},
   "source": [
    "## Solución\n",
    "Se simula el lanzamiento de una moneda n veces. Conforme se incrementa n, la probabilidad de que salga un 6 se acerca a la probabilidad teórica.\n",
    "\n",
    "$$P(X = 6) = \\frac{1}{6}$$"
   ]
  },
  {
   "cell_type": "code",
   "execution_count": 53,
   "metadata": {},
   "outputs": [
    {
     "name": "stdout",
     "output_type": "stream",
     "text": [
      "{2: 16705, 1: 16497, 6: 16648, 5: 16597, 4: 16705, 3: 16848}\n",
      "{2: 0.16705, 1: 0.16497, 6: 0.16648, 5: 0.16597, 4: 0.16705, 3: 0.16848}\n"
     ]
    }
   ],
   "source": [
    "from random import randrange\n",
    "n = 100000\n",
    "freqs = {}\n",
    "for i in range(n):\n",
    "    d = randrange(1, 7)\n",
    "    freqs[d] = freqs.get(d, 0) + 1\n",
    "print(freqs)\n",
    "freqrels = {k: v/n for k, v in freqs.items()}\n",
    "print(freqrels)"
   ]
  },
  {
   "cell_type": "code",
   "execution_count": 54,
   "metadata": {},
   "outputs": [
    {
     "data": {
      "text/plain": [
       "<BarContainer object of 6 artists>"
      ]
     },
     "execution_count": 54,
     "metadata": {},
     "output_type": "execute_result"
    },
    {
     "data": {
      "image/png": "[encoded data removed]",
      "text/plain": [
       "<Figure size 640x480 with 1 Axes>"
      ]
     },
     "metadata": {},
     "output_type": "display_data"
    }
   ],
   "source": [
    "from matplotlib import pyplot as plt\n",
    "\n",
    "plt.bar(freqrels.keys(), freqrels.values())"
   ]
  },
  {
   "cell_type": "code",
   "execution_count": 52,
   "metadata": {},
   "outputs": [
    {
     "data": {
      "text/plain": [
       "0.16666666666666666"
      ]
     },
     "execution_count": 52,
     "metadata": {},
     "output_type": "execute_result"
    }
   ],
   "source": [
    "# Probabilidad teórica \n",
    "1/6"
   ]
  },
  {
   "cell_type": "markdown",
   "metadata": {},
   "source": [
    "En el experimento de lanzar la moneda 100000 veces, la probabilidad frecuencial de obtener un 6 resultó 0.16648, muy cercana a la probabilidad teórica de 0.16666."
   ]
  },
  {
   "cell_type": "markdown",
   "metadata": {},
   "source": [
    "## Problema 6\n",
    "Un criador de hámsteres llevó a cabo un experimento bajo condiciones controladas donde dejó que 100 de estos roedores recorrieran libremente, uno a uno, un camino que tenía dos salidas donde se encontraba alimento perteneciente a dos marcas comerciales, identificadas por A y B. Observó que 70 de ellos prefirieron la marca comercial A.\n",
    "\n",
    "a) Si hacemos la prueba con un hámster y éste se dirige hacia la comida de la marca B ¿deberíamos pensar que el criador se equivocó en la observación que hizo? ¿Por qué si o por qué no?\n",
    "\n",
    "b) Si se repite la prueba, pero con 10 hámsteres y 4 de ellos eligen la marca B ¿deberíamos pensar que la observación del criador es errónea? ¿Por qué si o por qué no?\n",
    "\n",
    "c) Si la prueba se pretende realizar con 350 hámsteres, ¿se podría estimar cuántos de ellos elegirían cada marca comercial? Justifica tu respuesta.\n",
    "\n",
    "d) Al pedirle al criador que describa la secuencia de resultados del experimento que hizo expresa lo siguiente: “A A B A B B ...”. ¿Es posible anticipar cuál sería el siguiente resultado? ¿Por qué sí o por qué no? En caso de que sea posible anticiparlo, ¿cuál sería el resultado?"
   ]
  },
  {
   "cell_type": "markdown",
   "metadata": {},
   "source": [
    "a) No, no significa que el criador se equivocó. Aún cuando la muestra original de 100 hamsters no fuera pequeña habría un 30% de probabilidad de que un hamster fuera por el alimento de marca B.\n",
    "\n",
    "b) Tampoco se puede decir que la observación original es errónea, se esperan fluctuaciones de las probabilidades observadas en los diferentes experimentos.\n",
    "\n",
    "c) Asumiendo que las probabilidades observadas en el experimento original se acercan a las reales de la población de hamsters se pueden esperar $350 0.3=105$ hamsters que prefieren el alimento B y 245 que prefieren el A.\n",
    "\n",
    "d) La muestra contiene partes iguales hamsters que prefieren ambos alimentos, se podría decir que el próxima hamster elegiría el alimento A. De cualquier manera la muestra es muy pequeña para poder anticiparlo."
   ]
  }
 ],
 "metadata": {
  "interpreter": {
   "hash": "2c6a23e5ca86e48af99ddb8d87a6f8a76f480f6605a8646019b2b2d50a997dfd"
  },
  "kernelspec": {
   "display_name": "Python 3.9.13 ('base')",
   "language": "python",
   "name": "python3"
  },
  "language_info": {
   "codemirror_mode": {
    "name": "ipython",
    "version": 3
   },
   "file_extension": ".py",
   "mimetype": "text/x-python",
   "name": "python",
   "nbconvert_exporter": "python",
   "pygments_lexer": "ipython3",
   "version": "3.9.13"
  },
  "orig_nbformat": 4
 },
 "nbformat": 4,
 "nbformat_minor": 2
}
